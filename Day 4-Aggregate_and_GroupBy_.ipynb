{
  "nbformat": 4,
  "nbformat_minor": 0,
  "metadata": {
    "colab": {
      "name": "Aggregate and GroupBy .ipynb",
      "provenance": [],
      "collapsed_sections": []
    },
    "kernelspec": {
      "name": "python3",
      "display_name": "Python 3"
    },
    "language_info": {
      "name": "python"
    }
  },
  "cells": [
    {
      "cell_type": "markdown",
      "source": [
        "\n",
        "#**Topic to be covered**\n",
        "## Aggregation and Group By \n"
      ],
      "metadata": {
        "id": "-J-kEDio-IGD"
      }
    },
    {
      "cell_type": "code",
      "source": [
        "#import  pandas library and alias name as pd\n",
        "import pandas as pd\n",
        "import numpy as np\n",
        "\n",
        "trend_data =pd.read_csv('https://raw.githubusercontent.com/rsharankumar/Learn_Data_Science_in_100Days/master/Day11%20-%20Aggregation%20and%20GroupBy/Data/SearchTrendData.csv')\n",
        "trend_data.head()"
      ],
      "metadata": {
        "colab": {
          "base_uri": "https://localhost:8080/",
          "height": 204
        },
        "id": "42_A6VGgBf2i",
        "outputId": "4f1a35a3-d0af-4248-f91e-9caf53d5a734"
      },
      "execution_count": 5,
      "outputs": [
        {
          "output_type": "execute_result",
          "data": {
            "text/plain": [
              "         Week  eLearning  DataScience  MachineLearning  \\\n",
              "0  20/09/2015         32            9               11   \n",
              "1  27/09/2015         35           10               11   \n",
              "2   4/10/2015         38           10               12   \n",
              "3  11/10/2015         37            9               12   \n",
              "4  18/10/2015         38            9               12   \n",
              "\n",
              "   ArtificialIntelligence  DeepLearning  \n",
              "0                      11             4  \n",
              "1                      11             4  \n",
              "2                      11             4  \n",
              "3                      10             4  \n",
              "4                      10             4  "
            ],
            "text/html": [
              "\n",
              "  <div id=\"df-f14bd1b5-75b3-428d-96cc-bba77eb677e2\">\n",
              "    <div class=\"colab-df-container\">\n",
              "      <div>\n",
              "<style scoped>\n",
              "    .dataframe tbody tr th:only-of-type {\n",
              "        vertical-align: middle;\n",
              "    }\n",
              "\n",
              "    .dataframe tbody tr th {\n",
              "        vertical-align: top;\n",
              "    }\n",
              "\n",
              "    .dataframe thead th {\n",
              "        text-align: right;\n",
              "    }\n",
              "</style>\n",
              "<table border=\"1\" class=\"dataframe\">\n",
              "  <thead>\n",
              "    <tr style=\"text-align: right;\">\n",
              "      <th></th>\n",
              "      <th>Week</th>\n",
              "      <th>eLearning</th>\n",
              "      <th>DataScience</th>\n",
              "      <th>MachineLearning</th>\n",
              "      <th>ArtificialIntelligence</th>\n",
              "      <th>DeepLearning</th>\n",
              "    </tr>\n",
              "  </thead>\n",
              "  <tbody>\n",
              "    <tr>\n",
              "      <th>0</th>\n",
              "      <td>20/09/2015</td>\n",
              "      <td>32</td>\n",
              "      <td>9</td>\n",
              "      <td>11</td>\n",
              "      <td>11</td>\n",
              "      <td>4</td>\n",
              "    </tr>\n",
              "    <tr>\n",
              "      <th>1</th>\n",
              "      <td>27/09/2015</td>\n",
              "      <td>35</td>\n",
              "      <td>10</td>\n",
              "      <td>11</td>\n",
              "      <td>11</td>\n",
              "      <td>4</td>\n",
              "    </tr>\n",
              "    <tr>\n",
              "      <th>2</th>\n",
              "      <td>4/10/2015</td>\n",
              "      <td>38</td>\n",
              "      <td>10</td>\n",
              "      <td>12</td>\n",
              "      <td>11</td>\n",
              "      <td>4</td>\n",
              "    </tr>\n",
              "    <tr>\n",
              "      <th>3</th>\n",
              "      <td>11/10/2015</td>\n",
              "      <td>37</td>\n",
              "      <td>9</td>\n",
              "      <td>12</td>\n",
              "      <td>10</td>\n",
              "      <td>4</td>\n",
              "    </tr>\n",
              "    <tr>\n",
              "      <th>4</th>\n",
              "      <td>18/10/2015</td>\n",
              "      <td>38</td>\n",
              "      <td>9</td>\n",
              "      <td>12</td>\n",
              "      <td>10</td>\n",
              "      <td>4</td>\n",
              "    </tr>\n",
              "  </tbody>\n",
              "</table>\n",
              "</div>\n",
              "      <button class=\"colab-df-convert\" onclick=\"convertToInteractive('df-f14bd1b5-75b3-428d-96cc-bba77eb677e2')\"\n",
              "              title=\"Convert this dataframe to an interactive table.\"\n",
              "              style=\"display:none;\">\n",
              "        \n",
              "  <svg xmlns=\"http://www.w3.org/2000/svg\" height=\"24px\"viewBox=\"0 0 24 24\"\n",
              "       width=\"24px\">\n",
              "    <path d=\"M0 0h24v24H0V0z\" fill=\"none\"/>\n",
              "    <path d=\"M18.56 5.44l.94 2.06.94-2.06 2.06-.94-2.06-.94-.94-2.06-.94 2.06-2.06.94zm-11 1L8.5 8.5l.94-2.06 2.06-.94-2.06-.94L8.5 2.5l-.94 2.06-2.06.94zm10 10l.94 2.06.94-2.06 2.06-.94-2.06-.94-.94-2.06-.94 2.06-2.06.94z\"/><path d=\"M17.41 7.96l-1.37-1.37c-.4-.4-.92-.59-1.43-.59-.52 0-1.04.2-1.43.59L10.3 9.45l-7.72 7.72c-.78.78-.78 2.05 0 2.83L4 21.41c.39.39.9.59 1.41.59.51 0 1.02-.2 1.41-.59l7.78-7.78 2.81-2.81c.8-.78.8-2.07 0-2.86zM5.41 20L4 18.59l7.72-7.72 1.47 1.35L5.41 20z\"/>\n",
              "  </svg>\n",
              "      </button>\n",
              "      \n",
              "  <style>\n",
              "    .colab-df-container {\n",
              "      display:flex;\n",
              "      flex-wrap:wrap;\n",
              "      gap: 12px;\n",
              "    }\n",
              "\n",
              "    .colab-df-convert {\n",
              "      background-color: #E8F0FE;\n",
              "      border: none;\n",
              "      border-radius: 50%;\n",
              "      cursor: pointer;\n",
              "      display: none;\n",
              "      fill: #1967D2;\n",
              "      height: 32px;\n",
              "      padding: 0 0 0 0;\n",
              "      width: 32px;\n",
              "    }\n",
              "\n",
              "    .colab-df-convert:hover {\n",
              "      background-color: #E2EBFA;\n",
              "      box-shadow: 0px 1px 2px rgba(60, 64, 67, 0.3), 0px 1px 3px 1px rgba(60, 64, 67, 0.15);\n",
              "      fill: #174EA6;\n",
              "    }\n",
              "\n",
              "    [theme=dark] .colab-df-convert {\n",
              "      background-color: #3B4455;\n",
              "      fill: #D2E3FC;\n",
              "    }\n",
              "\n",
              "    [theme=dark] .colab-df-convert:hover {\n",
              "      background-color: #434B5C;\n",
              "      box-shadow: 0px 1px 3px 1px rgba(0, 0, 0, 0.15);\n",
              "      filter: drop-shadow(0px 1px 2px rgba(0, 0, 0, 0.3));\n",
              "      fill: #FFFFFF;\n",
              "    }\n",
              "  </style>\n",
              "\n",
              "      <script>\n",
              "        const buttonEl =\n",
              "          document.querySelector('#df-f14bd1b5-75b3-428d-96cc-bba77eb677e2 button.colab-df-convert');\n",
              "        buttonEl.style.display =\n",
              "          google.colab.kernel.accessAllowed ? 'block' : 'none';\n",
              "\n",
              "        async function convertToInteractive(key) {\n",
              "          const element = document.querySelector('#df-f14bd1b5-75b3-428d-96cc-bba77eb677e2');\n",
              "          const dataTable =\n",
              "            await google.colab.kernel.invokeFunction('convertToInteractive',\n",
              "                                                     [key], {});\n",
              "          if (!dataTable) return;\n",
              "\n",
              "          const docLinkHtml = 'Like what you see? Visit the ' +\n",
              "            '<a target=\"_blank\" href=https://colab.research.google.com/notebooks/data_table.ipynb>data table notebook</a>'\n",
              "            + ' to learn more about interactive tables.';\n",
              "          element.innerHTML = '';\n",
              "          dataTable['output_type'] = 'display_data';\n",
              "          await google.colab.output.renderOutput(dataTable, element);\n",
              "          const docLink = document.createElement('div');\n",
              "          docLink.innerHTML = docLinkHtml;\n",
              "          element.appendChild(docLink);\n",
              "        }\n",
              "      </script>\n",
              "    </div>\n",
              "  </div>\n",
              "  "
            ]
          },
          "metadata": {},
          "execution_count": 5
        }
      ]
    },
    {
      "cell_type": "markdown",
      "source": [
        "##Aggregate -Moving Average"
      ],
      "metadata": {
        "id": "SAotxj36E5X2"
      }
    },
    {
      "cell_type": "code",
      "source": [
        "t_data=trend_data[-10:]\n",
        "t_data=t_data.reset_index(drop=True)\n",
        "print(t_data)"
      ],
      "metadata": {
        "colab": {
          "base_uri": "https://localhost:8080/"
        },
        "id": "n-tGptakChMB",
        "outputId": "5481fd9c-9591-4d5e-b25e-d49391c94b0a"
      },
      "execution_count": 6,
      "outputs": [
        {
          "output_type": "stream",
          "name": "stdout",
          "text": [
            "         Week  eLearning  DataScience  MachineLearning  \\\n",
            "0  12/07/2020         58           36               40   \n",
            "1  19/07/2020         55           36               40   \n",
            "2  26/07/2020         43           34               39   \n",
            "3   2/08/2020         44           34               37   \n",
            "4   9/08/2020         44           35               38   \n",
            "5  16/08/2020         41           36               40   \n",
            "6  23/08/2020         49           39               40   \n",
            "7  30/08/2020         62           37               40   \n",
            "8   6/09/2020         74           38               42   \n",
            "9  13/09/2020         80           39               39   \n",
            "\n",
            "   ArtificialIntelligence  DeepLearning  \n",
            "0                      21            15  \n",
            "1                      21            14  \n",
            "2                      20            14  \n",
            "3                      20            13  \n",
            "4                      21            13  \n",
            "5                      22            14  \n",
            "6                      21            14  \n",
            "7                      21            14  \n",
            "8                      24            14  \n",
            "9                      21            14  \n"
          ]
        }
      ]
    },
    {
      "cell_type": "markdown",
      "source": [
        "##Moving Average for Selective column"
      ],
      "metadata": {
        "id": "vWImBuVpFBD-"
      }
    },
    {
      "cell_type": "code",
      "source": [
        "moving_average=t_data.rolling(window=3,min_periods=3)\n",
        "print(moving_average.aggregate(np.max))"
      ],
      "metadata": {
        "colab": {
          "base_uri": "https://localhost:8080/"
        },
        "id": "CH0M70DdCzFr",
        "outputId": "2c8b403b-c602-4a32-decc-b299f16bb5f8"
      },
      "execution_count": 9,
      "outputs": [
        {
          "output_type": "stream",
          "name": "stdout",
          "text": [
            "   eLearning  DataScience  MachineLearning  ArtificialIntelligence  \\\n",
            "0        NaN          NaN              NaN                     NaN   \n",
            "1        NaN          NaN              NaN                     NaN   \n",
            "2       58.0         36.0             40.0                    21.0   \n",
            "3       55.0         36.0             40.0                    21.0   \n",
            "4       44.0         35.0             39.0                    21.0   \n",
            "5       44.0         36.0             40.0                    22.0   \n",
            "6       49.0         39.0             40.0                    22.0   \n",
            "7       62.0         39.0             40.0                    22.0   \n",
            "8       74.0         39.0             42.0                    24.0   \n",
            "9       80.0         39.0             42.0                    24.0   \n",
            "\n",
            "   DeepLearning  \n",
            "0           NaN  \n",
            "1           NaN  \n",
            "2          15.0  \n",
            "3          14.0  \n",
            "4          14.0  \n",
            "5          14.0  \n",
            "6          14.0  \n",
            "7          14.0  \n",
            "8          14.0  \n",
            "9          14.0  \n"
          ]
        }
      ]
    },
    {
      "cell_type": "markdown",
      "source": [
        "##Find Max in Moving Average"
      ],
      "metadata": {
        "id": "uKNwmYXTFMGz"
      }
    },
    {
      "cell_type": "code",
      "source": [
        "moving_average_DS=t_data.rolling(window=3,min_periods=1)\n",
        "print(moving_average_DS['DataScience'].aggregate(np.max))\n"
      ],
      "metadata": {
        "colab": {
          "base_uri": "https://localhost:8080/"
        },
        "id": "blRYYyWjDMjd",
        "outputId": "7657fe00-e909-4e45-816d-7afa900cae63"
      },
      "execution_count": 10,
      "outputs": [
        {
          "output_type": "stream",
          "name": "stdout",
          "text": [
            "0    36.0\n",
            "1    36.0\n",
            "2    36.0\n",
            "3    36.0\n",
            "4    35.0\n",
            "5    36.0\n",
            "6    39.0\n",
            "7    39.0\n",
            "8    39.0\n",
            "9    39.0\n",
            "Name: DataScience, dtype: float64\n"
          ]
        }
      ]
    },
    {
      "cell_type": "markdown",
      "source": [
        "##Satndard Deviation and variance "
      ],
      "metadata": {
        "id": "mQveVuJ3FUou"
      }
    },
    {
      "cell_type": "code",
      "source": [
        "moving_average_DS = t_data.rolling(window=3,min_periods=1)\n",
        "#print(moving_average_DS['DataScince].aggregate(np.std))\n",
        "print(moving_average_DS['DataScience'].aggregate(np.var))"
      ],
      "metadata": {
        "colab": {
          "base_uri": "https://localhost:8080/"
        },
        "id": "GOde_T8dD7fQ",
        "outputId": "d0f948ae-c0af-4bf0-9c8a-5d6a5f61318e"
      },
      "execution_count": 12,
      "outputs": [
        {
          "output_type": "stream",
          "name": "stdout",
          "text": [
            "0         NaN\n",
            "1    0.000000\n",
            "2    1.333333\n",
            "3    1.333333\n",
            "4    0.333333\n",
            "5    1.000000\n",
            "6    4.333333\n",
            "7    2.333333\n",
            "8    1.000000\n",
            "9    1.000000\n",
            "Name: DataScience, dtype: float64\n"
          ]
        }
      ]
    },
    {
      "cell_type": "markdown",
      "source": [
        "##Using multiple Function"
      ],
      "metadata": {
        "id": "ePFnoWy-Fe9s"
      }
    },
    {
      "cell_type": "code",
      "source": [
        "moving_average_DS=t_data.rolling(window=3,min_periods=3)\n",
        "print(moving_average_DS[['DataScience','MachineLearning']].aggregate([np.mean,np.min,np.max]))"
      ],
      "metadata": {
        "colab": {
          "base_uri": "https://localhost:8080/"
        },
        "id": "kgsJ4kVmGHtT",
        "outputId": "69c2d0c9-8215-41fc-c69b-599b806a573a"
      },
      "execution_count": 17,
      "outputs": [
        {
          "output_type": "stream",
          "name": "stdout",
          "text": [
            "  DataScience             MachineLearning            \n",
            "         mean  amin  amax            mean  amin  amax\n",
            "0         NaN   NaN   NaN             NaN   NaN   NaN\n",
            "1         NaN   NaN   NaN             NaN   NaN   NaN\n",
            "2   35.333333  34.0  36.0       39.666667  39.0  40.0\n",
            "3   34.666667  34.0  36.0       38.666667  37.0  40.0\n",
            "4   34.333333  34.0  35.0       38.000000  37.0  39.0\n",
            "5   35.000000  34.0  36.0       38.333333  37.0  40.0\n",
            "6   36.666667  35.0  39.0       39.333333  38.0  40.0\n",
            "7   37.333333  36.0  39.0       40.000000  40.0  40.0\n",
            "8   38.000000  37.0  39.0       40.666667  40.0  42.0\n",
            "9   38.000000  37.0  39.0       40.333333  39.0  42.0\n"
          ]
        }
      ]
    },
    {
      "cell_type": "code",
      "source": [
        "trend_data['Year']=trend_data['Week'].str.strip().str[-4:]\n",
        "trend_data['Month']=trend_data['Week'].str.strip().str[-7:-5]\n",
        "trend_data.head()"
      ],
      "metadata": {
        "colab": {
          "base_uri": "https://localhost:8080/",
          "height": 204
        },
        "id": "h9ApTU6LP9ke",
        "outputId": "a2e2a886-70e7-4b26-cd2d-c9353348b058"
      },
      "execution_count": 19,
      "outputs": [
        {
          "output_type": "execute_result",
          "data": {
            "text/plain": [
              "         Week  eLearning  DataScience  MachineLearning  \\\n",
              "0  20/09/2015         32            9               11   \n",
              "1  27/09/2015         35           10               11   \n",
              "2   4/10/2015         38           10               12   \n",
              "3  11/10/2015         37            9               12   \n",
              "4  18/10/2015         38            9               12   \n",
              "\n",
              "   ArtificialIntelligence  DeepLearning  Year Month  \n",
              "0                      11             4  2015    09  \n",
              "1                      11             4  2015    09  \n",
              "2                      11             4  2015    10  \n",
              "3                      10             4  2015    10  \n",
              "4                      10             4  2015    10  "
            ],
            "text/html": [
              "\n",
              "  <div id=\"df-bbd7058a-3d07-42ef-a8e2-c3339795b7d8\">\n",
              "    <div class=\"colab-df-container\">\n",
              "      <div>\n",
              "<style scoped>\n",
              "    .dataframe tbody tr th:only-of-type {\n",
              "        vertical-align: middle;\n",
              "    }\n",
              "\n",
              "    .dataframe tbody tr th {\n",
              "        vertical-align: top;\n",
              "    }\n",
              "\n",
              "    .dataframe thead th {\n",
              "        text-align: right;\n",
              "    }\n",
              "</style>\n",
              "<table border=\"1\" class=\"dataframe\">\n",
              "  <thead>\n",
              "    <tr style=\"text-align: right;\">\n",
              "      <th></th>\n",
              "      <th>Week</th>\n",
              "      <th>eLearning</th>\n",
              "      <th>DataScience</th>\n",
              "      <th>MachineLearning</th>\n",
              "      <th>ArtificialIntelligence</th>\n",
              "      <th>DeepLearning</th>\n",
              "      <th>Year</th>\n",
              "      <th>Month</th>\n",
              "    </tr>\n",
              "  </thead>\n",
              "  <tbody>\n",
              "    <tr>\n",
              "      <th>0</th>\n",
              "      <td>20/09/2015</td>\n",
              "      <td>32</td>\n",
              "      <td>9</td>\n",
              "      <td>11</td>\n",
              "      <td>11</td>\n",
              "      <td>4</td>\n",
              "      <td>2015</td>\n",
              "      <td>09</td>\n",
              "    </tr>\n",
              "    <tr>\n",
              "      <th>1</th>\n",
              "      <td>27/09/2015</td>\n",
              "      <td>35</td>\n",
              "      <td>10</td>\n",
              "      <td>11</td>\n",
              "      <td>11</td>\n",
              "      <td>4</td>\n",
              "      <td>2015</td>\n",
              "      <td>09</td>\n",
              "    </tr>\n",
              "    <tr>\n",
              "      <th>2</th>\n",
              "      <td>4/10/2015</td>\n",
              "      <td>38</td>\n",
              "      <td>10</td>\n",
              "      <td>12</td>\n",
              "      <td>11</td>\n",
              "      <td>4</td>\n",
              "      <td>2015</td>\n",
              "      <td>10</td>\n",
              "    </tr>\n",
              "    <tr>\n",
              "      <th>3</th>\n",
              "      <td>11/10/2015</td>\n",
              "      <td>37</td>\n",
              "      <td>9</td>\n",
              "      <td>12</td>\n",
              "      <td>10</td>\n",
              "      <td>4</td>\n",
              "      <td>2015</td>\n",
              "      <td>10</td>\n",
              "    </tr>\n",
              "    <tr>\n",
              "      <th>4</th>\n",
              "      <td>18/10/2015</td>\n",
              "      <td>38</td>\n",
              "      <td>9</td>\n",
              "      <td>12</td>\n",
              "      <td>10</td>\n",
              "      <td>4</td>\n",
              "      <td>2015</td>\n",
              "      <td>10</td>\n",
              "    </tr>\n",
              "  </tbody>\n",
              "</table>\n",
              "</div>\n",
              "      <button class=\"colab-df-convert\" onclick=\"convertToInteractive('df-bbd7058a-3d07-42ef-a8e2-c3339795b7d8')\"\n",
              "              title=\"Convert this dataframe to an interactive table.\"\n",
              "              style=\"display:none;\">\n",
              "        \n",
              "  <svg xmlns=\"http://www.w3.org/2000/svg\" height=\"24px\"viewBox=\"0 0 24 24\"\n",
              "       width=\"24px\">\n",
              "    <path d=\"M0 0h24v24H0V0z\" fill=\"none\"/>\n",
              "    <path d=\"M18.56 5.44l.94 2.06.94-2.06 2.06-.94-2.06-.94-.94-2.06-.94 2.06-2.06.94zm-11 1L8.5 8.5l.94-2.06 2.06-.94-2.06-.94L8.5 2.5l-.94 2.06-2.06.94zm10 10l.94 2.06.94-2.06 2.06-.94-2.06-.94-.94-2.06-.94 2.06-2.06.94z\"/><path d=\"M17.41 7.96l-1.37-1.37c-.4-.4-.92-.59-1.43-.59-.52 0-1.04.2-1.43.59L10.3 9.45l-7.72 7.72c-.78.78-.78 2.05 0 2.83L4 21.41c.39.39.9.59 1.41.59.51 0 1.02-.2 1.41-.59l7.78-7.78 2.81-2.81c.8-.78.8-2.07 0-2.86zM5.41 20L4 18.59l7.72-7.72 1.47 1.35L5.41 20z\"/>\n",
              "  </svg>\n",
              "      </button>\n",
              "      \n",
              "  <style>\n",
              "    .colab-df-container {\n",
              "      display:flex;\n",
              "      flex-wrap:wrap;\n",
              "      gap: 12px;\n",
              "    }\n",
              "\n",
              "    .colab-df-convert {\n",
              "      background-color: #E8F0FE;\n",
              "      border: none;\n",
              "      border-radius: 50%;\n",
              "      cursor: pointer;\n",
              "      display: none;\n",
              "      fill: #1967D2;\n",
              "      height: 32px;\n",
              "      padding: 0 0 0 0;\n",
              "      width: 32px;\n",
              "    }\n",
              "\n",
              "    .colab-df-convert:hover {\n",
              "      background-color: #E2EBFA;\n",
              "      box-shadow: 0px 1px 2px rgba(60, 64, 67, 0.3), 0px 1px 3px 1px rgba(60, 64, 67, 0.15);\n",
              "      fill: #174EA6;\n",
              "    }\n",
              "\n",
              "    [theme=dark] .colab-df-convert {\n",
              "      background-color: #3B4455;\n",
              "      fill: #D2E3FC;\n",
              "    }\n",
              "\n",
              "    [theme=dark] .colab-df-convert:hover {\n",
              "      background-color: #434B5C;\n",
              "      box-shadow: 0px 1px 3px 1px rgba(0, 0, 0, 0.15);\n",
              "      filter: drop-shadow(0px 1px 2px rgba(0, 0, 0, 0.3));\n",
              "      fill: #FFFFFF;\n",
              "    }\n",
              "  </style>\n",
              "\n",
              "      <script>\n",
              "        const buttonEl =\n",
              "          document.querySelector('#df-bbd7058a-3d07-42ef-a8e2-c3339795b7d8 button.colab-df-convert');\n",
              "        buttonEl.style.display =\n",
              "          google.colab.kernel.accessAllowed ? 'block' : 'none';\n",
              "\n",
              "        async function convertToInteractive(key) {\n",
              "          const element = document.querySelector('#df-bbd7058a-3d07-42ef-a8e2-c3339795b7d8');\n",
              "          const dataTable =\n",
              "            await google.colab.kernel.invokeFunction('convertToInteractive',\n",
              "                                                     [key], {});\n",
              "          if (!dataTable) return;\n",
              "\n",
              "          const docLinkHtml = 'Like what you see? Visit the ' +\n",
              "            '<a target=\"_blank\" href=https://colab.research.google.com/notebooks/data_table.ipynb>data table notebook</a>'\n",
              "            + ' to learn more about interactive tables.';\n",
              "          element.innerHTML = '';\n",
              "          dataTable['output_type'] = 'display_data';\n",
              "          await google.colab.output.renderOutput(dataTable, element);\n",
              "          const docLink = document.createElement('div');\n",
              "          docLink.innerHTML = docLinkHtml;\n",
              "          element.appendChild(docLink);\n",
              "        }\n",
              "      </script>\n",
              "    </div>\n",
              "  </div>\n",
              "  "
            ]
          },
          "metadata": {},
          "execution_count": 19
        }
      ]
    },
    {
      "cell_type": "markdown",
      "source": [
        "##Performing Group By"
      ],
      "metadata": {
        "id": "Ccze-uoMRIYj"
      }
    },
    {
      "cell_type": "code",
      "source": [
        "trend_data.groupby('Year').DataScience.mean()"
      ],
      "metadata": {
        "colab": {
          "base_uri": "https://localhost:8080/"
        },
        "id": "-OjncFxLRUD8",
        "outputId": "f7a7e435-5fe0-4706-f6bc-cf0320be6395"
      },
      "execution_count": 20,
      "outputs": [
        {
          "output_type": "execute_result",
          "data": {
            "text/plain": [
              "Year\n",
              "2015     8.800000\n",
              "2016    11.000000\n",
              "2017    17.094340\n",
              "2018    22.942308\n",
              "2019    30.653846\n",
              "2020    34.486486\n",
              "Name: DataScience, dtype: float64"
            ]
          },
          "metadata": {},
          "execution_count": 20
        }
      ]
    },
    {
      "cell_type": "markdown",
      "source": [
        "##Using with Lambda"
      ],
      "metadata": {
        "id": "vYKCG5T4RcVa"
      }
    },
    {
      "cell_type": "code",
      "source": [
        "trend_data.groupby('Year').apply(lambda trend_data: trend_data.mean())"
      ],
      "metadata": {
        "colab": {
          "base_uri": "https://localhost:8080/",
          "height": 320
        },
        "id": "5T3cHiHxRmkg",
        "outputId": "bf736af0-7285-4475-a21f-39260ec2eda9"
      },
      "execution_count": 22,
      "outputs": [
        {
          "output_type": "stream",
          "name": "stderr",
          "text": [
            "/usr/local/lib/python3.7/dist-packages/ipykernel_launcher.py:1: FutureWarning: Dropping of nuisance columns in DataFrame reductions (with 'numeric_only=None') is deprecated; in a future version this will raise TypeError.  Select only valid columns before calling the reduction.\n",
            "  \"\"\"Entry point for launching an IPython kernel.\n"
          ]
        },
        {
          "output_type": "execute_result",
          "data": {
            "text/plain": [
              "      eLearning  DataScience  MachineLearning  ArtificialIntelligence  \\\n",
              "Year                                                                    \n",
              "2015  32.533333     8.800000        12.200000               10.733333   \n",
              "2016  26.500000    11.000000        15.865385               11.826923   \n",
              "2017  26.075472    17.094340        28.660377               18.094340   \n",
              "2018  30.269231    22.942308        36.500000               22.000000   \n",
              "2019  35.519231    30.653846        40.730769               22.865385   \n",
              "2020  61.594595    34.486486        40.351351               21.783784   \n",
              "\n",
              "      DeepLearning           Year          Month  \n",
              "Year                                              \n",
              "2015      4.066667   1.343468e+58   6.060673e+27  \n",
              "2016      6.692308  3.877311e+205  1.942502e+100  \n",
              "2017     12.150943  3.806041e+209  1.905851e+102  \n",
              "2018     14.173077  3.881157e+205  1.942502e+100  \n",
              "2019     14.538462  3.883081e+205  1.942502e+100  \n",
              "2020     14.297297  5.460005e+145   2.730003e+70  "
            ],
            "text/html": [
              "\n",
              "  <div id=\"df-3b605b63-b1f4-4f1f-9995-5e427febf07e\">\n",
              "    <div class=\"colab-df-container\">\n",
              "      <div>\n",
              "<style scoped>\n",
              "    .dataframe tbody tr th:only-of-type {\n",
              "        vertical-align: middle;\n",
              "    }\n",
              "\n",
              "    .dataframe tbody tr th {\n",
              "        vertical-align: top;\n",
              "    }\n",
              "\n",
              "    .dataframe thead th {\n",
              "        text-align: right;\n",
              "    }\n",
              "</style>\n",
              "<table border=\"1\" class=\"dataframe\">\n",
              "  <thead>\n",
              "    <tr style=\"text-align: right;\">\n",
              "      <th></th>\n",
              "      <th>eLearning</th>\n",
              "      <th>DataScience</th>\n",
              "      <th>MachineLearning</th>\n",
              "      <th>ArtificialIntelligence</th>\n",
              "      <th>DeepLearning</th>\n",
              "      <th>Year</th>\n",
              "      <th>Month</th>\n",
              "    </tr>\n",
              "    <tr>\n",
              "      <th>Year</th>\n",
              "      <th></th>\n",
              "      <th></th>\n",
              "      <th></th>\n",
              "      <th></th>\n",
              "      <th></th>\n",
              "      <th></th>\n",
              "      <th></th>\n",
              "    </tr>\n",
              "  </thead>\n",
              "  <tbody>\n",
              "    <tr>\n",
              "      <th>2015</th>\n",
              "      <td>32.533333</td>\n",
              "      <td>8.800000</td>\n",
              "      <td>12.200000</td>\n",
              "      <td>10.733333</td>\n",
              "      <td>4.066667</td>\n",
              "      <td>1.343468e+58</td>\n",
              "      <td>6.060673e+27</td>\n",
              "    </tr>\n",
              "    <tr>\n",
              "      <th>2016</th>\n",
              "      <td>26.500000</td>\n",
              "      <td>11.000000</td>\n",
              "      <td>15.865385</td>\n",
              "      <td>11.826923</td>\n",
              "      <td>6.692308</td>\n",
              "      <td>3.877311e+205</td>\n",
              "      <td>1.942502e+100</td>\n",
              "    </tr>\n",
              "    <tr>\n",
              "      <th>2017</th>\n",
              "      <td>26.075472</td>\n",
              "      <td>17.094340</td>\n",
              "      <td>28.660377</td>\n",
              "      <td>18.094340</td>\n",
              "      <td>12.150943</td>\n",
              "      <td>3.806041e+209</td>\n",
              "      <td>1.905851e+102</td>\n",
              "    </tr>\n",
              "    <tr>\n",
              "      <th>2018</th>\n",
              "      <td>30.269231</td>\n",
              "      <td>22.942308</td>\n",
              "      <td>36.500000</td>\n",
              "      <td>22.000000</td>\n",
              "      <td>14.173077</td>\n",
              "      <td>3.881157e+205</td>\n",
              "      <td>1.942502e+100</td>\n",
              "    </tr>\n",
              "    <tr>\n",
              "      <th>2019</th>\n",
              "      <td>35.519231</td>\n",
              "      <td>30.653846</td>\n",
              "      <td>40.730769</td>\n",
              "      <td>22.865385</td>\n",
              "      <td>14.538462</td>\n",
              "      <td>3.883081e+205</td>\n",
              "      <td>1.942502e+100</td>\n",
              "    </tr>\n",
              "    <tr>\n",
              "      <th>2020</th>\n",
              "      <td>61.594595</td>\n",
              "      <td>34.486486</td>\n",
              "      <td>40.351351</td>\n",
              "      <td>21.783784</td>\n",
              "      <td>14.297297</td>\n",
              "      <td>5.460005e+145</td>\n",
              "      <td>2.730003e+70</td>\n",
              "    </tr>\n",
              "  </tbody>\n",
              "</table>\n",
              "</div>\n",
              "      <button class=\"colab-df-convert\" onclick=\"convertToInteractive('df-3b605b63-b1f4-4f1f-9995-5e427febf07e')\"\n",
              "              title=\"Convert this dataframe to an interactive table.\"\n",
              "              style=\"display:none;\">\n",
              "        \n",
              "  <svg xmlns=\"http://www.w3.org/2000/svg\" height=\"24px\"viewBox=\"0 0 24 24\"\n",
              "       width=\"24px\">\n",
              "    <path d=\"M0 0h24v24H0V0z\" fill=\"none\"/>\n",
              "    <path d=\"M18.56 5.44l.94 2.06.94-2.06 2.06-.94-2.06-.94-.94-2.06-.94 2.06-2.06.94zm-11 1L8.5 8.5l.94-2.06 2.06-.94-2.06-.94L8.5 2.5l-.94 2.06-2.06.94zm10 10l.94 2.06.94-2.06 2.06-.94-2.06-.94-.94-2.06-.94 2.06-2.06.94z\"/><path d=\"M17.41 7.96l-1.37-1.37c-.4-.4-.92-.59-1.43-.59-.52 0-1.04.2-1.43.59L10.3 9.45l-7.72 7.72c-.78.78-.78 2.05 0 2.83L4 21.41c.39.39.9.59 1.41.59.51 0 1.02-.2 1.41-.59l7.78-7.78 2.81-2.81c.8-.78.8-2.07 0-2.86zM5.41 20L4 18.59l7.72-7.72 1.47 1.35L5.41 20z\"/>\n",
              "  </svg>\n",
              "      </button>\n",
              "      \n",
              "  <style>\n",
              "    .colab-df-container {\n",
              "      display:flex;\n",
              "      flex-wrap:wrap;\n",
              "      gap: 12px;\n",
              "    }\n",
              "\n",
              "    .colab-df-convert {\n",
              "      background-color: #E8F0FE;\n",
              "      border: none;\n",
              "      border-radius: 50%;\n",
              "      cursor: pointer;\n",
              "      display: none;\n",
              "      fill: #1967D2;\n",
              "      height: 32px;\n",
              "      padding: 0 0 0 0;\n",
              "      width: 32px;\n",
              "    }\n",
              "\n",
              "    .colab-df-convert:hover {\n",
              "      background-color: #E2EBFA;\n",
              "      box-shadow: 0px 1px 2px rgba(60, 64, 67, 0.3), 0px 1px 3px 1px rgba(60, 64, 67, 0.15);\n",
              "      fill: #174EA6;\n",
              "    }\n",
              "\n",
              "    [theme=dark] .colab-df-convert {\n",
              "      background-color: #3B4455;\n",
              "      fill: #D2E3FC;\n",
              "    }\n",
              "\n",
              "    [theme=dark] .colab-df-convert:hover {\n",
              "      background-color: #434B5C;\n",
              "      box-shadow: 0px 1px 3px 1px rgba(0, 0, 0, 0.15);\n",
              "      filter: drop-shadow(0px 1px 2px rgba(0, 0, 0, 0.3));\n",
              "      fill: #FFFFFF;\n",
              "    }\n",
              "  </style>\n",
              "\n",
              "      <script>\n",
              "        const buttonEl =\n",
              "          document.querySelector('#df-3b605b63-b1f4-4f1f-9995-5e427febf07e button.colab-df-convert');\n",
              "        buttonEl.style.display =\n",
              "          google.colab.kernel.accessAllowed ? 'block' : 'none';\n",
              "\n",
              "        async function convertToInteractive(key) {\n",
              "          const element = document.querySelector('#df-3b605b63-b1f4-4f1f-9995-5e427febf07e');\n",
              "          const dataTable =\n",
              "            await google.colab.kernel.invokeFunction('convertToInteractive',\n",
              "                                                     [key], {});\n",
              "          if (!dataTable) return;\n",
              "\n",
              "          const docLinkHtml = 'Like what you see? Visit the ' +\n",
              "            '<a target=\"_blank\" href=https://colab.research.google.com/notebooks/data_table.ipynb>data table notebook</a>'\n",
              "            + ' to learn more about interactive tables.';\n",
              "          element.innerHTML = '';\n",
              "          dataTable['output_type'] = 'display_data';\n",
              "          await google.colab.output.renderOutput(dataTable, element);\n",
              "          const docLink = document.createElement('div');\n",
              "          docLink.innerHTML = docLinkHtml;\n",
              "          element.appendChild(docLink);\n",
              "        }\n",
              "      </script>\n",
              "    </div>\n",
              "  </div>\n",
              "  "
            ]
          },
          "metadata": {},
          "execution_count": 22
        }
      ]
    },
    {
      "cell_type": "code",
      "source": [
        "trend_data.groupby(['Year','Month']).DataScience.mean()"
      ],
      "metadata": {
        "colab": {
          "base_uri": "https://localhost:8080/"
        },
        "id": "dDbAz2eSR_q-",
        "outputId": "c3aed276-6c63-4608-8d6d-450109adfc16"
      },
      "execution_count": 23,
      "outputs": [
        {
          "output_type": "execute_result",
          "data": {
            "text/plain": [
              "Year  Month\n",
              "2015  09        9.50\n",
              "      10        9.50\n",
              "      11        8.60\n",
              "      12        8.00\n",
              "2016  01       10.40\n",
              "               ...  \n",
              "2020  05       32.40\n",
              "      06       33.75\n",
              "      07       35.25\n",
              "      08       36.20\n",
              "      09       38.50\n",
              "Name: DataScience, Length: 61, dtype: float64"
            ]
          },
          "metadata": {},
          "execution_count": 23
        }
      ]
    },
    {
      "cell_type": "code",
      "source": [
        "trend_data.groupby(['Year']).DataScience.aggregate([np.mean,min,max,len,np.std])"
      ],
      "metadata": {
        "colab": {
          "base_uri": "https://localhost:8080/",
          "height": 266
        },
        "id": "Zl_c9kXHUw7f",
        "outputId": "4191e611-dc71-4b6c-f858-37d564d7d19b"
      },
      "execution_count": 24,
      "outputs": [
        {
          "output_type": "execute_result",
          "data": {
            "text/plain": [
              "           mean  min  max  len       std\n",
              "Year                                    \n",
              "2015   8.800000    7   10   15  0.941124\n",
              "2016  11.000000    9   14   52  1.546660\n",
              "2017  17.094340   13   21   53  1.983239\n",
              "2018  22.942308   19   27   52  1.974479\n",
              "2019  30.653846   26   37   52  2.771597\n",
              "2020  34.486486   28   39   37  2.652270"
            ],
            "text/html": [
              "\n",
              "  <div id=\"df-dc53865c-b6a8-4e3a-b7c9-1ac133a648be\">\n",
              "    <div class=\"colab-df-container\">\n",
              "      <div>\n",
              "<style scoped>\n",
              "    .dataframe tbody tr th:only-of-type {\n",
              "        vertical-align: middle;\n",
              "    }\n",
              "\n",
              "    .dataframe tbody tr th {\n",
              "        vertical-align: top;\n",
              "    }\n",
              "\n",
              "    .dataframe thead th {\n",
              "        text-align: right;\n",
              "    }\n",
              "</style>\n",
              "<table border=\"1\" class=\"dataframe\">\n",
              "  <thead>\n",
              "    <tr style=\"text-align: right;\">\n",
              "      <th></th>\n",
              "      <th>mean</th>\n",
              "      <th>min</th>\n",
              "      <th>max</th>\n",
              "      <th>len</th>\n",
              "      <th>std</th>\n",
              "    </tr>\n",
              "    <tr>\n",
              "      <th>Year</th>\n",
              "      <th></th>\n",
              "      <th></th>\n",
              "      <th></th>\n",
              "      <th></th>\n",
              "      <th></th>\n",
              "    </tr>\n",
              "  </thead>\n",
              "  <tbody>\n",
              "    <tr>\n",
              "      <th>2015</th>\n",
              "      <td>8.800000</td>\n",
              "      <td>7</td>\n",
              "      <td>10</td>\n",
              "      <td>15</td>\n",
              "      <td>0.941124</td>\n",
              "    </tr>\n",
              "    <tr>\n",
              "      <th>2016</th>\n",
              "      <td>11.000000</td>\n",
              "      <td>9</td>\n",
              "      <td>14</td>\n",
              "      <td>52</td>\n",
              "      <td>1.546660</td>\n",
              "    </tr>\n",
              "    <tr>\n",
              "      <th>2017</th>\n",
              "      <td>17.094340</td>\n",
              "      <td>13</td>\n",
              "      <td>21</td>\n",
              "      <td>53</td>\n",
              "      <td>1.983239</td>\n",
              "    </tr>\n",
              "    <tr>\n",
              "      <th>2018</th>\n",
              "      <td>22.942308</td>\n",
              "      <td>19</td>\n",
              "      <td>27</td>\n",
              "      <td>52</td>\n",
              "      <td>1.974479</td>\n",
              "    </tr>\n",
              "    <tr>\n",
              "      <th>2019</th>\n",
              "      <td>30.653846</td>\n",
              "      <td>26</td>\n",
              "      <td>37</td>\n",
              "      <td>52</td>\n",
              "      <td>2.771597</td>\n",
              "    </tr>\n",
              "    <tr>\n",
              "      <th>2020</th>\n",
              "      <td>34.486486</td>\n",
              "      <td>28</td>\n",
              "      <td>39</td>\n",
              "      <td>37</td>\n",
              "      <td>2.652270</td>\n",
              "    </tr>\n",
              "  </tbody>\n",
              "</table>\n",
              "</div>\n",
              "      <button class=\"colab-df-convert\" onclick=\"convertToInteractive('df-dc53865c-b6a8-4e3a-b7c9-1ac133a648be')\"\n",
              "              title=\"Convert this dataframe to an interactive table.\"\n",
              "              style=\"display:none;\">\n",
              "        \n",
              "  <svg xmlns=\"http://www.w3.org/2000/svg\" height=\"24px\"viewBox=\"0 0 24 24\"\n",
              "       width=\"24px\">\n",
              "    <path d=\"M0 0h24v24H0V0z\" fill=\"none\"/>\n",
              "    <path d=\"M18.56 5.44l.94 2.06.94-2.06 2.06-.94-2.06-.94-.94-2.06-.94 2.06-2.06.94zm-11 1L8.5 8.5l.94-2.06 2.06-.94-2.06-.94L8.5 2.5l-.94 2.06-2.06.94zm10 10l.94 2.06.94-2.06 2.06-.94-2.06-.94-.94-2.06-.94 2.06-2.06.94z\"/><path d=\"M17.41 7.96l-1.37-1.37c-.4-.4-.92-.59-1.43-.59-.52 0-1.04.2-1.43.59L10.3 9.45l-7.72 7.72c-.78.78-.78 2.05 0 2.83L4 21.41c.39.39.9.59 1.41.59.51 0 1.02-.2 1.41-.59l7.78-7.78 2.81-2.81c.8-.78.8-2.07 0-2.86zM5.41 20L4 18.59l7.72-7.72 1.47 1.35L5.41 20z\"/>\n",
              "  </svg>\n",
              "      </button>\n",
              "      \n",
              "  <style>\n",
              "    .colab-df-container {\n",
              "      display:flex;\n",
              "      flex-wrap:wrap;\n",
              "      gap: 12px;\n",
              "    }\n",
              "\n",
              "    .colab-df-convert {\n",
              "      background-color: #E8F0FE;\n",
              "      border: none;\n",
              "      border-radius: 50%;\n",
              "      cursor: pointer;\n",
              "      display: none;\n",
              "      fill: #1967D2;\n",
              "      height: 32px;\n",
              "      padding: 0 0 0 0;\n",
              "      width: 32px;\n",
              "    }\n",
              "\n",
              "    .colab-df-convert:hover {\n",
              "      background-color: #E2EBFA;\n",
              "      box-shadow: 0px 1px 2px rgba(60, 64, 67, 0.3), 0px 1px 3px 1px rgba(60, 64, 67, 0.15);\n",
              "      fill: #174EA6;\n",
              "    }\n",
              "\n",
              "    [theme=dark] .colab-df-convert {\n",
              "      background-color: #3B4455;\n",
              "      fill: #D2E3FC;\n",
              "    }\n",
              "\n",
              "    [theme=dark] .colab-df-convert:hover {\n",
              "      background-color: #434B5C;\n",
              "      box-shadow: 0px 1px 3px 1px rgba(0, 0, 0, 0.15);\n",
              "      filter: drop-shadow(0px 1px 2px rgba(0, 0, 0, 0.3));\n",
              "      fill: #FFFFFF;\n",
              "    }\n",
              "  </style>\n",
              "\n",
              "      <script>\n",
              "        const buttonEl =\n",
              "          document.querySelector('#df-dc53865c-b6a8-4e3a-b7c9-1ac133a648be button.colab-df-convert');\n",
              "        buttonEl.style.display =\n",
              "          google.colab.kernel.accessAllowed ? 'block' : 'none';\n",
              "\n",
              "        async function convertToInteractive(key) {\n",
              "          const element = document.querySelector('#df-dc53865c-b6a8-4e3a-b7c9-1ac133a648be');\n",
              "          const dataTable =\n",
              "            await google.colab.kernel.invokeFunction('convertToInteractive',\n",
              "                                                     [key], {});\n",
              "          if (!dataTable) return;\n",
              "\n",
              "          const docLinkHtml = 'Like what you see? Visit the ' +\n",
              "            '<a target=\"_blank\" href=https://colab.research.google.com/notebooks/data_table.ipynb>data table notebook</a>'\n",
              "            + ' to learn more about interactive tables.';\n",
              "          element.innerHTML = '';\n",
              "          dataTable['output_type'] = 'display_data';\n",
              "          await google.colab.output.renderOutput(dataTable, element);\n",
              "          const docLink = document.createElement('div');\n",
              "          docLink.innerHTML = docLinkHtml;\n",
              "          element.appendChild(docLink);\n",
              "        }\n",
              "      </script>\n",
              "    </div>\n",
              "  </div>\n",
              "  "
            ]
          },
          "metadata": {},
          "execution_count": 24
        }
      ]
    },
    {
      "cell_type": "code",
      "source": [
        ""
      ],
      "metadata": {
        "id": "Bgj7E623VPRr"
      },
      "execution_count": null,
      "outputs": []
    }
  ]
}

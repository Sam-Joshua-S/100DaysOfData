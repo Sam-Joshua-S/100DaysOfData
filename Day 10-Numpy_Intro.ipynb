{
  "nbformat": 4,
  "nbformat_minor": 0,
  "metadata": {
    "colab": {
      "name": "Numpy_Intro.ipynb",
      "provenance": []
    },
    "kernelspec": {
      "name": "python3",
      "display_name": "Python 3"
    },
    "language_info": {
      "name": "python"
    }
  },
  "cells": [
    {
      "cell_type": "markdown",
      "source": [
        "#Topic to be covered\n",
        "*  Introduction to Numpy\n",
        "   *  Means Numerical Python, can be considered as an python replacement for Matlab\n",
        "   *  Useful while working \n",
        "*  Numpy is faster than list\n",
        "   *  Numpy is estimated to be around 30 times faster than python list\n",
        "   *  Packed Closely\n",
        "   *  Homogeneous\n",
        "   *  Optimized for recent computer architecture"
      ],
      "metadata": {
        "id": "Xiei1t9hpZ4m"
      }
    },
    {
      "cell_type": "code",
      "source": [
        "import numpy as np"
      ],
      "metadata": {
        "id": "M0lNmyfZrt3J"
      },
      "execution_count": 1,
      "outputs": []
    },
    {
      "cell_type": "markdown",
      "source": [
        "##One Dimentional Array"
      ],
      "metadata": {
        "id": "o7Po4_roryeG"
      }
    },
    {
      "cell_type": "code",
      "source": [
        "array1d = np.array([1,2,3,4,5,6,7,8,9,10])\n",
        "print(type(array1d))"
      ],
      "metadata": {
        "colab": {
          "base_uri": "https://localhost:8080/"
        },
        "id": "L1qTChaAsLs9",
        "outputId": "eadf13d4-44fe-43a7-f8f4-92780709d727"
      },
      "execution_count": 2,
      "outputs": [
        {
          "output_type": "stream",
          "name": "stdout",
          "text": [
            "<class 'numpy.ndarray'>\n"
          ]
        }
      ]
    },
    {
      "cell_type": "code",
      "source": [
        "print(array1d)"
      ],
      "metadata": {
        "colab": {
          "base_uri": "https://localhost:8080/"
        },
        "id": "CZyUpzm3sf3r",
        "outputId": "4728482a-3999-4281-8d8c-eea58f7ab977"
      },
      "execution_count": 3,
      "outputs": [
        {
          "output_type": "stream",
          "name": "stdout",
          "text": [
            "[ 1  2  3  4  5  6  7  8  9 10]\n"
          ]
        }
      ]
    },
    {
      "cell_type": "markdown",
      "source": [
        "##Two dimention Array"
      ],
      "metadata": {
        "id": "ynK3Rebusjx6"
      }
    },
    {
      "cell_type": "code",
      "source": [
        "array2d = np.array([[1,2,3,4,5],[6,7,8,9,10]])\n",
        "print(array2d)\n",
        "print(\"Array Shape: \",array2d.shape)\n",
        "print(\"Dimensions: \",array2d.ndim)"
      ],
      "metadata": {
        "colab": {
          "base_uri": "https://localhost:8080/"
        },
        "id": "Tw-Ksdnzsvhu",
        "outputId": "e2853ab1-6aaf-469e-ce7f-1ceb7123a6cc"
      },
      "execution_count": 4,
      "outputs": [
        {
          "output_type": "stream",
          "name": "stdout",
          "text": [
            "[[ 1  2  3  4  5]\n",
            " [ 6  7  8  9 10]]\n",
            "Array Shape:  (2, 5)\n",
            "Dimensions:  2\n"
          ]
        }
      ]
    },
    {
      "cell_type": "code",
      "source": [
        "array2d_2 = np.array([[1,2,3,4,5],[6,7,8,9,10],[11,12,13,14,15]])\n",
        "print(array2d_2)\n",
        "print(\"Array Shape:\",array2d_2.shape)\n",
        "print(\"Dimension:\",array2d_2)"
      ],
      "metadata": {
        "colab": {
          "base_uri": "https://localhost:8080/"
        },
        "id": "W0OFMLCdtTgR",
        "outputId": "c731d685-9f16-4322-b98a-6f3e50712613"
      },
      "execution_count": 5,
      "outputs": [
        {
          "output_type": "stream",
          "name": "stdout",
          "text": [
            "[[ 1  2  3  4  5]\n",
            " [ 6  7  8  9 10]\n",
            " [11 12 13 14 15]]\n",
            "Array Shape: (3, 5)\n",
            "Dimension: [[ 1  2  3  4  5]\n",
            " [ 6  7  8  9 10]\n",
            " [11 12 13 14 15]]\n"
          ]
        }
      ]
    },
    {
      "cell_type": "markdown",
      "source": [
        "##Three Dimension Array"
      ],
      "metadata": {
        "id": "Mivp-4cGvFst"
      }
    },
    {
      "cell_type": "code",
      "source": [
        "array3d = np.array([[[1,2,3,4,5],[6,7,8,9,10]],[[11,12,13,14,15],[16,17,18,19,20]],[[21,22,23,24,25],[26,27,28,29,30]]])\n",
        "print(array3d)\n",
        "print(\"Array Shape:\",array3d.shape)\n",
        "print(\"Dimension:\",array3d.ndim)"
      ],
      "metadata": {
        "colab": {
          "base_uri": "https://localhost:8080/"
        },
        "id": "VLQVmPz_vSCC",
        "outputId": "86fa0fc8-4c33-4091-8b05-20af8706ba92"
      },
      "execution_count": 7,
      "outputs": [
        {
          "output_type": "stream",
          "name": "stdout",
          "text": [
            "[[[ 1  2  3  4  5]\n",
            "  [ 6  7  8  9 10]]\n",
            "\n",
            " [[11 12 13 14 15]\n",
            "  [16 17 18 19 20]]\n",
            "\n",
            " [[21 22 23 24 25]\n",
            "  [26 27 28 29 30]]]\n",
            "Array Shape: (3, 2, 5)\n",
            "Dimension: 3\n"
          ]
        }
      ]
    },
    {
      "cell_type": "markdown",
      "source": [
        "##Reshape Array"
      ],
      "metadata": {
        "id": "wJeBxuPFwg3d"
      }
    },
    {
      "cell_type": "code",
      "source": [
        "array1 = np.arange(24)\n",
        "print(array1)\n",
        "print(\"Array Shape: \", array1.shape)\n",
        "print(\"Number of Dimensions:\", array1.ndim)\n",
        "\n",
        "\n",
        "array2 = array1.reshape(3,2,4) \n",
        "print(array2)\n",
        "print(\"Array Shape: \", array2.shape)\n",
        "print(\"Number of Dimensions:\", array2.ndim)"
      ],
      "metadata": {
        "colab": {
          "base_uri": "https://localhost:8080/"
        },
        "id": "KMwnXqqVw-TT",
        "outputId": "0b2a3f2e-3bfe-4ee2-aa55-c91a2475a351"
      },
      "execution_count": 8,
      "outputs": [
        {
          "output_type": "stream",
          "name": "stdout",
          "text": [
            "[ 0  1  2  3  4  5  6  7  8  9 10 11 12 13 14 15 16 17 18 19 20 21 22 23]\n",
            "Array Shape:  (24,)\n",
            "Number of Dimensions: 1\n",
            "[[[ 0  1  2  3]\n",
            "  [ 4  5  6  7]]\n",
            "\n",
            " [[ 8  9 10 11]\n",
            "  [12 13 14 15]]\n",
            "\n",
            " [[16 17 18 19]\n",
            "  [20 21 22 23]]]\n",
            "Array Shape:  (3, 2, 4)\n",
            "Number of Dimensions: 3\n"
          ]
        }
      ]
    },
    {
      "cell_type": "markdown",
      "source": [
        "##Array are homogeous "
      ],
      "metadata": {
        "id": "EjHSykbDxJ59"
      }
    },
    {
      "cell_type": "code",
      "source": [
        "array3 = np.array([1, 2, 3, 4])\n",
        "print(array3.dtype)\n",
        "print(array3*2)"
      ],
      "metadata": {
        "colab": {
          "base_uri": "https://localhost:8080/"
        },
        "id": "vPYsuFPox2wK",
        "outputId": "11bbfff9-06d7-40fc-c8fd-9daa0b5e1a34"
      },
      "execution_count": 9,
      "outputs": [
        {
          "output_type": "stream",
          "name": "stdout",
          "text": [
            "int64\n",
            "[2 4 6 8]\n"
          ]
        }
      ]
    },
    {
      "cell_type": "code",
      "source": [
        "array4 = np.array([1, 2, 3, 4, 'a'])\n",
        "print(array4.dtype) # U - Unincode String\n",
        "print(array4)"
      ],
      "metadata": {
        "colab": {
          "base_uri": "https://localhost:8080/"
        },
        "id": "gi7XotuFyAkv",
        "outputId": "d3184f70-21e2-4bad-b617-b3cc5ddd203a"
      },
      "execution_count": 12,
      "outputs": [
        {
          "output_type": "stream",
          "name": "stdout",
          "text": [
            "<U21\n",
            "['1' '2' '3' '4' 'a']\n"
          ]
        }
      ]
    },
    {
      "cell_type": "markdown",
      "source": [
        "##Define Data Type"
      ],
      "metadata": {
        "id": "kXH7cv92x7Da"
      }
    },
    {
      "cell_type": "code",
      "source": [
        "array5 = np.array([1, 2, 3, 4], dtype='i4') # Integer of 2 Bytes\n",
        "print(array5)\n",
        "print(array5.dtype)"
      ],
      "metadata": {
        "colab": {
          "base_uri": "https://localhost:8080/"
        },
        "id": "5-JO658uzJCp",
        "outputId": "20d9d378-943f-4611-d571-5d4072020ed1"
      },
      "execution_count": 13,
      "outputs": [
        {
          "output_type": "stream",
          "name": "stdout",
          "text": [
            "[1 2 3 4]\n",
            "int32\n"
          ]
        }
      ]
    },
    {
      "cell_type": "markdown",
      "source": [
        "##Convert Integer Array to float"
      ],
      "metadata": {
        "id": "5V5B8IyFzo4h"
      }
    },
    {
      "cell_type": "code",
      "source": [
        "array7_i = np.array([1, 2, 3])\n",
        "array7_f = array7_i.astype('f')\n",
        "print(array7_f)\n",
        "print(array7_f.dtype)"
      ],
      "metadata": {
        "colab": {
          "base_uri": "https://localhost:8080/"
        },
        "id": "Il4eIfjf0FTf",
        "outputId": "f9171a98-f7c7-4f7b-bd32-c85d0ec903a2"
      },
      "execution_count": 16,
      "outputs": [
        {
          "output_type": "stream",
          "name": "stdout",
          "text": [
            "[1. 2. 3.]\n",
            "float32\n"
          ]
        }
      ]
    },
    {
      "cell_type": "markdown",
      "source": [
        "##Convert Float into int "
      ],
      "metadata": {
        "id": "dTg1RdYT0IOF"
      }
    },
    {
      "cell_type": "code",
      "source": [
        "array8_f = np.array([1.2, 2.2, 3.9])\n",
        "array8_i = array8_f.astype('i')\n",
        "print(array8_i)\n",
        "print(array8_i.dtype)"
      ],
      "metadata": {
        "colab": {
          "base_uri": "https://localhost:8080/"
        },
        "id": "WZLjDM_90fNI",
        "outputId": "9fa3f959-9765-4625-c34d-baf1cac0ce94"
      },
      "execution_count": 17,
      "outputs": [
        {
          "output_type": "stream",
          "name": "stdout",
          "text": [
            "[1 2 3]\n",
            "int32\n"
          ]
        }
      ]
    },
    {
      "cell_type": "code",
      "source": [
        ""
      ],
      "metadata": {
        "id": "UEonS8db0jqo"
      },
      "execution_count": null,
      "outputs": []
    }
  ]
}

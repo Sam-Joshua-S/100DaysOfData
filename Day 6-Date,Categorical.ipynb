{
  "cells": [
    {
      "cell_type": "markdown",
      "metadata": {
        "id": "view-in-github",
        "colab_type": "text"
      },
      "source": [
        "<a href=\"https://colab.research.google.com/github/Sam-Joshua-S/100DaysOfData/blob/main/Day_6_Date%2C_Categorical.ipynb\" target=\"_parent\"><img src=\"https://colab.research.google.com/assets/colab-badge.svg\" alt=\"Open In Colab\"/></a>"
      ]
    },
    {
      "cell_type": "markdown",
      "metadata": {
        "id": "CHAlV_pq8Iti"
      },
      "source": [
        "#### Topics Covered today\n",
        "- Date Functionality and Time Delta\n",
        "- Categorical Data\n",
        "- Sparse Data\n"
      ]
    },
    {
      "cell_type": "code",
      "execution_count": null,
      "metadata": {
        "id": "ZPm3nqWT8It0"
      },
      "outputs": [],
      "source": [
        "import pandas as pd"
      ]
    },
    {
      "cell_type": "markdown",
      "metadata": {
        "id": "0oKtAPXH8It7"
      },
      "source": [
        "1a. Creating a Date Column"
      ]
    },
    {
      "cell_type": "code",
      "execution_count": null,
      "metadata": {
        "id": "mVaU0kwc8It8",
        "outputId": "9d17a7db-d3ff-42a3-b000-51dd5adf04b9",
        "colab": {
          "base_uri": "https://localhost:8080/"
        }
      },
      "outputs": [
        {
          "output_type": "stream",
          "name": "stdout",
          "text": [
            "DatetimeIndex(['2011-05-01', '2011-05-02', '2011-05-03', '2011-05-04',\n",
            "               '2011-05-05', '2011-05-06', '2011-05-07', '2011-05-08',\n",
            "               '2011-05-09', '2011-05-10'],\n",
            "              dtype='datetime64[ns]', freq='D')\n"
          ]
        }
      ],
      "source": [
        "print(pd.date_range('5/1/2011', periods=10))"
      ]
    },
    {
      "cell_type": "markdown",
      "metadata": {
        "id": "Fn56P_uf8IuB"
      },
      "source": [
        "1b. Adding Frequency"
      ]
    },
    {
      "cell_type": "code",
      "execution_count": null,
      "metadata": {
        "id": "yWB9LyGS8IuC",
        "outputId": "2c2a5d61-7ce4-4e89-b479-0ccf90e4c361",
        "colab": {
          "base_uri": "https://localhost:8080/"
        }
      },
      "outputs": [
        {
          "output_type": "stream",
          "name": "stdout",
          "text": [
            "DatetimeIndex(['2011-01-31', '2011-02-28', '2011-03-31', '2011-04-30',\n",
            "               '2011-05-31'],\n",
            "              dtype='datetime64[ns]', freq='M')\n"
          ]
        }
      ],
      "source": [
        "print(pd.date_range('1/1/2011', periods=5, freq='M'))"
      ]
    },
    {
      "cell_type": "markdown",
      "metadata": {
        "id": "cjmq42Oz8IuE"
      },
      "source": [
        "1c. Other Frequency Options"
      ]
    },
    {
      "cell_type": "code",
      "execution_count": null,
      "metadata": {
        "id": "iYrGkwSJ8IuF",
        "outputId": "f59d6885-af9f-44fd-a68f-57cc83b8dd6d",
        "colab": {
          "base_uri": "https://localhost:8080/"
        }
      },
      "outputs": [
        {
          "output_type": "stream",
          "name": "stdout",
          "text": [
            "DatetimeIndex(['2011-01-01', '2011-02-01', '2011-03-01', '2011-04-01',\n",
            "               '2011-05-01'],\n",
            "              dtype='datetime64[ns]', freq='MS')\n"
          ]
        }
      ],
      "source": [
        "print(pd.date_range('1/1/2011', periods=5, freq='MS'))\n",
        "# Show all the Frequency Options from Pandas"
      ]
    },
    {
      "cell_type": "markdown",
      "metadata": {
        "id": "L_IjzSzC8IuH"
      },
      "source": [
        "2a. Time Delta"
      ]
    },
    {
      "cell_type": "code",
      "execution_count": null,
      "metadata": {
        "id": "uuyV4vft8IuI",
        "outputId": "7bd078ff-6d44-4e83-8826-18612ebeff53",
        "colab": {
          "base_uri": "https://localhost:8080/"
        }
      },
      "outputs": [
        {
          "output_type": "stream",
          "name": "stdout",
          "text": [
            "Day 1: 2022-04-29 02:21:02.297358\n",
            "Day 2: 2022-04-30 02:21:02.297358 Saturday\n"
          ]
        }
      ],
      "source": [
        "day1 = pd.to_datetime('today')\n",
        "day2 = day1 + pd.Timedelta('1 day')\n",
        "print(\"Day 1:\", day1)\n",
        "print(\"Day 2:\", day2, day2.day_name())"
      ]
    },
    {
      "cell_type": "markdown",
      "metadata": {
        "id": "arj23JQd8IuJ"
      },
      "source": [
        "2b. Date Operations"
      ]
    },
    {
      "cell_type": "code",
      "execution_count": null,
      "metadata": {
        "id": "kSvZgSZh8IuK",
        "outputId": "40299784-e7d8-426e-8750-96180975f1f3",
        "colab": {
          "base_uri": "https://localhost:8080/"
        }
      },
      "outputs": [
        {
          "output_type": "stream",
          "name": "stdout",
          "text": [
            "        Date To_Add\n",
            "0 2020-01-01 0 days\n",
            "1 2020-01-02 1 days\n",
            "2 2020-01-03 2 days\n",
            "3 2020-01-04 3 days\n",
            "4 2020-01-05 4 days\n",
            "5 2020-01-06 5 days\n",
            "6 2020-01-07 6 days\n",
            "        Date To_Add Final_Date\n",
            "0 2020-01-01 0 days 2020-01-01\n",
            "1 2020-01-02 1 days 2020-01-03\n",
            "2 2020-01-03 2 days 2020-01-05\n",
            "3 2020-01-04 3 days 2020-01-07\n",
            "4 2020-01-05 4 days 2020-01-09\n",
            "5 2020-01-06 5 days 2020-01-11\n",
            "6 2020-01-07 6 days 2020-01-13\n"
          ]
        }
      ],
      "source": [
        "date = pd.Series(pd.date_range('2020-1-1', periods=7, freq='D'))\n",
        "to_be_added = pd.Series([pd.Timedelta(days=i) for i in range(7)])\n",
        "date_df = pd.DataFrame({'Date': date, 'To_Add': to_be_added})\n",
        "print(date_df)\n",
        "date_df['Final_Date'] = date_df['Date'] + date_df['To_Add']\n",
        "print(date_df) "
      ]
    },
    {
      "cell_type": "code",
      "execution_count": null,
      "metadata": {
        "id": "Q1dy-USb8IuM",
        "outputId": "b3d64d33-0aa1-4af5-f459-fc80836dca4f",
        "colab": {
          "base_uri": "https://localhost:8080/"
        }
      },
      "outputs": [
        {
          "output_type": "stream",
          "name": "stdout",
          "text": [
            "        Date To_Add\n",
            "0 2020-01-01 0 days\n",
            "1 2020-01-02 1 days\n",
            "2 2020-01-03 2 days\n",
            "3 2020-01-04 3 days\n",
            "4 2020-01-05 4 days\n",
            "5 2020-01-06 5 days\n",
            "6 2020-01-07 6 days\n",
            "        Date To_Add Final_Date\n",
            "0 2020-01-01 0 days 2020-01-01\n",
            "1 2020-01-02 1 days 2020-01-01\n",
            "2 2020-01-03 2 days 2020-01-01\n",
            "3 2020-01-04 3 days 2020-01-01\n",
            "4 2020-01-05 4 days 2020-01-01\n",
            "5 2020-01-06 5 days 2020-01-01\n",
            "6 2020-01-07 6 days 2020-01-01\n"
          ]
        }
      ],
      "source": [
        "date = pd.Series(pd.date_range('2020-1-1', periods=7, freq='D'))\n",
        "to_be_added = pd.Series([pd.Timedelta(days=i) for i in range(7)])\n",
        "date_df = pd.DataFrame({'Date': date, 'To_Add': to_be_added})\n",
        "print(date_df)\n",
        "date_df['Final_Date'] = date_df['Date'] - date_df['To_Add']\n",
        "print(date_df)"
      ]
    },
    {
      "cell_type": "code",
      "execution_count": null,
      "metadata": {
        "id": "lqC68aT58IuN",
        "outputId": "aff16ede-b191-4829-cce2-1139bb1bf873",
        "colab": {
          "base_uri": "https://localhost:8080/"
        }
      },
      "outputs": [
        {
          "output_type": "stream",
          "name": "stdout",
          "text": [
            "        Date To_Add Final_Date  year  month  day\n",
            "0 2020-01-01 0 days 2020-01-01  2020      1    1\n",
            "1 2020-01-02 1 days 2020-01-01  2020      1    2\n",
            "2 2020-01-03 2 days 2020-01-01  2020      1    3\n",
            "3 2020-01-04 3 days 2020-01-01  2020      1    4\n",
            "4 2020-01-05 4 days 2020-01-01  2020      1    5\n",
            "5 2020-01-06 5 days 2020-01-01  2020      1    6\n",
            "6 2020-01-07 6 days 2020-01-01  2020      1    7\n"
          ]
        }
      ],
      "source": [
        "date = pd.Series(pd.date_range('2020-1-1', periods=7, freq='D'))\n",
        "to_be_added = pd.Series([pd.Timedelta(days=i) for i in range(7)])\n",
        "date_df['year'] = date_df['Date'].dt.year\n",
        "date_df['month'] = date_df['Date'].dt.month\n",
        "date_df['day'] = date_df['Date'].dt.day\n",
        "print(date_df)"
      ]
    },
    {
      "cell_type": "markdown",
      "metadata": {
        "id": "YRF0ejMZ8IuP"
      },
      "source": [
        "More date operation Here - https://pandas.pydata.org/pandas-docs/stable/user_guide/timedeltas.html"
      ]
    },
    {
      "cell_type": "markdown",
      "metadata": {
        "id": "LD95Qwe58IuQ"
      },
      "source": [
        "3a. Categorical Data"
      ]
    },
    {
      "cell_type": "code",
      "execution_count": null,
      "metadata": {
        "id": "-nqzxcZ78IuQ",
        "outputId": "a59918cd-286d-495b-968b-f13645cf4b01",
        "colab": {
          "base_uri": "https://localhost:8080/"
        }
      },
      "outputs": [
        {
          "output_type": "stream",
          "name": "stdout",
          "text": [
            "0      Male\n",
            "1    Female\n",
            "2      Male\n",
            "3    Female\n",
            "4    Female\n",
            "dtype: category\n",
            "Categories (2, object): ['Female', 'Male']\n"
          ]
        }
      ],
      "source": [
        "gender = pd.Series([\"Male\",\"Female\",\"Male\",\"Female\", \"Female\"], dtype=\"category\")\n",
        "print(gender)"
      ]
    },
    {
      "cell_type": "markdown",
      "metadata": {
        "id": "sevRefON8IuS"
      },
      "source": [
        "3b. Get all categories"
      ]
    },
    {
      "cell_type": "code",
      "execution_count": null,
      "metadata": {
        "id": "B3Sh_N6i8IuV",
        "outputId": "41df5151-42a5-4d6e-8cc3-27313b1397f0",
        "colab": {
          "base_uri": "https://localhost:8080/"
        }
      },
      "outputs": [
        {
          "output_type": "stream",
          "name": "stdout",
          "text": [
            "['Male', 'Female', 'Male', 'Female', 'Female']\n",
            "Categories (2, object): ['Female', 'Male']\n"
          ]
        }
      ],
      "source": [
        "Categories = pd.Categorical(gender)\n",
        "print(Categories)\n"
      ]
    },
    {
      "cell_type": "markdown",
      "metadata": {
        "id": "bx7ZoDua8IuW"
      },
      "source": [
        "3c. Accessing the objects from the categories"
      ]
    },
    {
      "cell_type": "code",
      "execution_count": null,
      "metadata": {
        "id": "1P2GiQlI8IuZ",
        "outputId": "2f66e22d-d06f-4926-f836-8c1939644af0",
        "colab": {
          "base_uri": "https://localhost:8080/"
        }
      },
      "outputs": [
        {
          "output_type": "stream",
          "name": "stdout",
          "text": [
            "Categories: Male and Female\n"
          ]
        }
      ],
      "source": [
        "print(\"Categories:\", Categories[0], \"and\", Categories[1])"
      ]
    },
    {
      "cell_type": "markdown",
      "metadata": {
        "id": "-q9mzym38Iua"
      },
      "source": [
        "3d. Summary on the Categrical attribute"
      ]
    },
    {
      "cell_type": "code",
      "execution_count": null,
      "metadata": {
        "id": "uEbtz5Te8Iub",
        "outputId": "8acd38e2-5140-4b8c-a637-b164ba76be37",
        "colab": {
          "base_uri": "https://localhost:8080/"
        }
      },
      "outputs": [
        {
          "output_type": "stream",
          "name": "stdout",
          "text": [
            "count          5\n",
            "unique         2\n",
            "top       Female\n",
            "freq           3\n",
            "dtype: object\n"
          ]
        }
      ],
      "source": [
        "print(gender.describe())"
      ]
    },
    {
      "cell_type": "markdown",
      "metadata": {
        "id": "EvA2O3q88Iuc"
      },
      "source": [
        "3e. Removing certain categories"
      ]
    },
    {
      "cell_type": "code",
      "execution_count": null,
      "metadata": {
        "id": "MzW7Ya9K8Iue",
        "outputId": "d3e6351c-d506-4af5-96a5-7b831ca09f25",
        "colab": {
          "base_uri": "https://localhost:8080/"
        }
      },
      "outputs": [
        {
          "output_type": "stream",
          "name": "stdout",
          "text": [
            "0       NaN\n",
            "1    Female\n",
            "2       NaN\n",
            "3    Female\n",
            "4    Female\n",
            "dtype: category\n",
            "Categories (1, object): ['Female']\n"
          ]
        }
      ],
      "source": [
        "print(gender.cat.remove_categories(\"Male\"))"
      ]
    },
    {
      "cell_type": "markdown",
      "metadata": {
        "id": "qGwaJrtj8Iuf"
      },
      "source": [
        "4a. Sparse Data - Useful when there is a large number of zero elements"
      ]
    },
    {
      "cell_type": "code",
      "execution_count": null,
      "metadata": {
        "id": "ENku6vWU8Iuf",
        "outputId": "058c6059-b636-4228-edd4-2467e54fa3bb",
        "colab": {
          "base_uri": "https://localhost:8080/"
        }
      },
      "outputs": [
        {
          "output_type": "stream",
          "name": "stdout",
          "text": [
            "<class 'pandas.core.frame.DataFrame'>\n"
          ]
        }
      ],
      "source": [
        "import pandas as pd\n",
        "import numpy as np\n",
        "\n",
        "\n",
        "df = pd.DataFrame(np.random.randn(10000, 4))\n",
        "df.iloc[:9998] = np.nan\n",
        "sdf = df.astype(pd.SparseDtype(\"float\", np.nan))\n",
        "print(type(sdf))"
      ]
    },
    {
      "cell_type": "code",
      "execution_count": null,
      "metadata": {
        "id": "XlV3w-U18Iuh",
        "outputId": "d38b6f9f-d679-41f2-ef56-b699f47b18f9",
        "colab": {
          "base_uri": "https://localhost:8080/"
        }
      },
      "outputs": [
        {
          "output_type": "execute_result",
          "data": {
            "text/plain": [
              "0    Sparse[float64, nan]\n",
              "1    Sparse[float64, nan]\n",
              "2    Sparse[float64, nan]\n",
              "3    Sparse[float64, nan]\n",
              "dtype: object"
            ]
          },
          "metadata": {},
          "execution_count": 15
        }
      ],
      "source": [
        "sdf.dtypes"
      ]
    },
    {
      "cell_type": "code",
      "execution_count": null,
      "metadata": {
        "id": "K5xXibb08Iui",
        "outputId": "85e480e7-04b6-44af-a8d0-77456b1ef8ee",
        "colab": {
          "base_uri": "https://localhost:8080/"
        }
      },
      "outputs": [
        {
          "output_type": "execute_result",
          "data": {
            "text/plain": [
              "0.0002"
            ]
          },
          "metadata": {},
          "execution_count": 16
        }
      ],
      "source": [
        "sdf.sparse.density"
      ]
    }
  ],
  "metadata": {
    "kernelspec": {
      "display_name": "Python 3",
      "language": "python",
      "name": "python3"
    },
    "language_info": {
      "codemirror_mode": {
        "name": "ipython",
        "version": 3
      },
      "file_extension": ".py",
      "mimetype": "text/x-python",
      "name": "python",
      "nbconvert_exporter": "python",
      "pygments_lexer": "ipython3",
      "version": "3.8.5"
    },
    "colab": {
      "name": "Day 6-Date, Categorical.ipynb",
      "provenance": [],
      "collapsed_sections": [],
      "include_colab_link": true
    }
  },
  "nbformat": 4,
  "nbformat_minor": 0
}

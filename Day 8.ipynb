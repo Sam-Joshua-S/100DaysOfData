{
  "cells": [
    {
      "cell_type": "markdown",
      "metadata": {
        "id": "CHAlV_pq8Iti"
      },
      "source": [
        "#### Topics Covered today\n",
        "- Date Functionality and Time Delta\n",
        "- Categorical Data\n",
        "- Sparse Data\n"
      ]
    },
    {
      "cell_type": "code",
      "execution_count": null,
      "metadata": {
        "id": "ZPm3nqWT8It0"
      },
      "outputs": [],
      "source": [
        "import pandas as pd"
      ]
    },
    {
      "cell_type": "markdown",
      "metadata": {
        "id": "0oKtAPXH8It7"
      },
      "source": [
        "1a. Creating a Date Column"
      ]
    },
    {
      "cell_type": "code",
      "execution_count": null,
      "metadata": {
        "id": "mVaU0kwc8It8",
        "outputId": "7ee6757e-a88e-45ad-ff96-bd07df450475"
      },
      "outputs": [
        {
          "name": "stdout",
          "output_type": "stream",
          "text": [
            "DatetimeIndex(['2011-05-01', '2011-05-02', '2011-05-03', '2011-05-04',\n",
            "               '2011-05-05', '2011-05-06', '2011-05-07', '2011-05-08',\n",
            "               '2011-05-09', '2011-05-10'],\n",
            "              dtype='datetime64[ns]', freq='D')\n"
          ]
        }
      ],
      "source": [
        "print(pd.date_range('5/1/2011', periods=10))"
      ]
    },
    {
      "cell_type": "markdown",
      "metadata": {
        "id": "Fn56P_uf8IuB"
      },
      "source": [
        "1b. Adding Frequency"
      ]
    },
    {
      "cell_type": "code",
      "execution_count": null,
      "metadata": {
        "id": "yWB9LyGS8IuC",
        "outputId": "64105024-6653-405c-9823-c1653e4f6a44"
      },
      "outputs": [
        {
          "name": "stdout",
          "output_type": "stream",
          "text": [
            "DatetimeIndex(['2011-01-31', '2011-02-28', '2011-03-31', '2011-04-30',\n",
            "               '2011-05-31'],\n",
            "              dtype='datetime64[ns]', freq='M')\n"
          ]
        }
      ],
      "source": [
        "print(pd.date_range('1/1/2011', periods=5, freq='M'))"
      ]
    },
    {
      "cell_type": "markdown",
      "metadata": {
        "id": "cjmq42Oz8IuE"
      },
      "source": [
        "1c. Other Frequency Options"
      ]
    },
    {
      "cell_type": "code",
      "execution_count": null,
      "metadata": {
        "id": "iYrGkwSJ8IuF",
        "outputId": "493ae873-b31d-45b6-a073-a1a7a56b404e"
      },
      "outputs": [
        {
          "name": "stdout",
          "output_type": "stream",
          "text": [
            "DatetimeIndex(['2011-01-01', '2011-02-01', '2011-03-01', '2011-04-01',\n",
            "               '2011-05-01'],\n",
            "              dtype='datetime64[ns]', freq='MS')\n"
          ]
        }
      ],
      "source": [
        "print(pd.date_range('1/1/2011', periods=5, freq='MS'))\n",
        "# Show all the Frequency Options from Pandas"
      ]
    },
    {
      "cell_type": "markdown",
      "metadata": {
        "id": "L_IjzSzC8IuH"
      },
      "source": [
        "2a. Time Delta"
      ]
    },
    {
      "cell_type": "code",
      "execution_count": null,
      "metadata": {
        "id": "uuyV4vft8IuI",
        "outputId": "c62bd34c-0097-4e42-8176-2f6682895f22"
      },
      "outputs": [
        {
          "name": "stdout",
          "output_type": "stream",
          "text": [
            "Day 1: 2020-10-03 16:26:54.744401\n",
            "Day 2: 2020-10-04 16:26:54.744401 Sunday\n"
          ]
        }
      ],
      "source": [
        "day1 = pd.to_datetime('today')\n",
        "day2 = day1 + pd.Timedelta('1 day')\n",
        "print(\"Day 1:\", day1)\n",
        "print(\"Day 2:\", day2, day2.day_name())"
      ]
    },
    {
      "cell_type": "markdown",
      "metadata": {
        "id": "arj23JQd8IuJ"
      },
      "source": [
        "2b. Date Operations"
      ]
    },
    {
      "cell_type": "code",
      "execution_count": null,
      "metadata": {
        "id": "kSvZgSZh8IuK",
        "outputId": "4dd1ca19-88f4-4b32-e531-aba364b60de9",
        "colab": {
          "base_uri": "https://localhost:8080/",
          "height": 231
        }
      },
      "outputs": [
        {
          "output_type": "error",
          "ename": "NameError",
          "evalue": "ignored",
          "traceback": [
            "\u001b[0;31m---------------------------------------------------------------------------\u001b[0m",
            "\u001b[0;31mNameError\u001b[0m                                 Traceback (most recent call last)",
            "\u001b[0;32m<ipython-input-1-31cd875e1164>\u001b[0m in \u001b[0;36m<module>\u001b[0;34m()\u001b[0m\n\u001b[0;32m----> 1\u001b[0;31m \u001b[0mdate\u001b[0m \u001b[0;34m=\u001b[0m \u001b[0mpd\u001b[0m\u001b[0;34m.\u001b[0m\u001b[0mSeries\u001b[0m\u001b[0;34m(\u001b[0m\u001b[0mpd\u001b[0m\u001b[0;34m.\u001b[0m\u001b[0mdate_range\u001b[0m\u001b[0;34m(\u001b[0m\u001b[0;34m'2020-1-1'\u001b[0m\u001b[0;34m,\u001b[0m \u001b[0mperiods\u001b[0m\u001b[0;34m=\u001b[0m\u001b[0;36m7\u001b[0m\u001b[0;34m,\u001b[0m \u001b[0mfreq\u001b[0m\u001b[0;34m=\u001b[0m\u001b[0;34m'D'\u001b[0m\u001b[0;34m)\u001b[0m\u001b[0;34m)\u001b[0m\u001b[0;34m\u001b[0m\u001b[0;34m\u001b[0m\u001b[0m\n\u001b[0m\u001b[1;32m      2\u001b[0m \u001b[0mto_be_added\u001b[0m \u001b[0;34m=\u001b[0m \u001b[0mpd\u001b[0m\u001b[0;34m.\u001b[0m\u001b[0mSeries\u001b[0m\u001b[0;34m(\u001b[0m\u001b[0;34m[\u001b[0m\u001b[0mpd\u001b[0m\u001b[0;34m.\u001b[0m\u001b[0mTimedelta\u001b[0m\u001b[0;34m(\u001b[0m\u001b[0mdays\u001b[0m\u001b[0;34m=\u001b[0m\u001b[0mi\u001b[0m\u001b[0;34m)\u001b[0m \u001b[0;32mfor\u001b[0m \u001b[0mi\u001b[0m \u001b[0;32min\u001b[0m \u001b[0mrange\u001b[0m\u001b[0;34m(\u001b[0m\u001b[0;36m7\u001b[0m\u001b[0;34m)\u001b[0m\u001b[0;34m]\u001b[0m\u001b[0;34m)\u001b[0m\u001b[0;34m\u001b[0m\u001b[0;34m\u001b[0m\u001b[0m\n\u001b[1;32m      3\u001b[0m \u001b[0mdate_df\u001b[0m \u001b[0;34m=\u001b[0m \u001b[0mpd\u001b[0m\u001b[0;34m.\u001b[0m\u001b[0mDataFrame\u001b[0m\u001b[0;34m(\u001b[0m\u001b[0;34m{\u001b[0m\u001b[0;34m'Date'\u001b[0m\u001b[0;34m:\u001b[0m \u001b[0mdate\u001b[0m\u001b[0;34m,\u001b[0m \u001b[0;34m'To_Add'\u001b[0m\u001b[0;34m:\u001b[0m \u001b[0mto_be_added\u001b[0m\u001b[0;34m}\u001b[0m\u001b[0;34m)\u001b[0m\u001b[0;34m\u001b[0m\u001b[0;34m\u001b[0m\u001b[0m\n\u001b[1;32m      4\u001b[0m \u001b[0mprint\u001b[0m\u001b[0;34m(\u001b[0m\u001b[0mdate_df\u001b[0m\u001b[0;34m)\u001b[0m\u001b[0;34m\u001b[0m\u001b[0;34m\u001b[0m\u001b[0m\n\u001b[1;32m      5\u001b[0m \u001b[0mdate_df\u001b[0m\u001b[0;34m[\u001b[0m\u001b[0;34m'Final_Date'\u001b[0m\u001b[0;34m]\u001b[0m \u001b[0;34m=\u001b[0m \u001b[0mdate_df\u001b[0m\u001b[0;34m[\u001b[0m\u001b[0;34m'Date'\u001b[0m\u001b[0;34m]\u001b[0m \u001b[0;34m+\u001b[0m \u001b[0mdate_df\u001b[0m\u001b[0;34m[\u001b[0m\u001b[0;34m'To_Add'\u001b[0m\u001b[0;34m]\u001b[0m\u001b[0;34m\u001b[0m\u001b[0;34m\u001b[0m\u001b[0m\n",
            "\u001b[0;31mNameError\u001b[0m: name 'pd' is not defined"
          ]
        }
      ],
      "source": [
        "date = pd.Series(pd.date_range('2020-1-1', periods=7, freq='D'))\n",
        "to_be_added = pd.Series([pd.Timedelta(days=i) for i in range(7)])\n",
        "date_df = pd.DataFrame({'Date': date, 'To_Add': to_be_added})\n",
        "print(date_df)\n",
        "date_df['Final_Date'] = date_df['Date'] + date_df['To_Add']\n",
        "print(date_df) "
      ]
    },
    {
      "cell_type": "code",
      "execution_count": null,
      "metadata": {
        "id": "Q1dy-USb8IuM",
        "outputId": "056c8aee-2c1a-44e8-c06d-2a6d693fb920"
      },
      "outputs": [
        {
          "name": "stdout",
          "output_type": "stream",
          "text": [
            "        Date To_Add\n",
            "0 2020-01-01 0 days\n",
            "1 2020-01-02 1 days\n",
            "2 2020-01-03 2 days\n",
            "3 2020-01-04 3 days\n",
            "4 2020-01-05 4 days\n",
            "5 2020-01-06 5 days\n",
            "6 2020-01-07 6 days\n",
            "        Date To_Add Final_Date\n",
            "0 2020-01-01 0 days 2020-01-01\n",
            "1 2020-01-02 1 days 2020-01-01\n",
            "2 2020-01-03 2 days 2020-01-01\n",
            "3 2020-01-04 3 days 2020-01-01\n",
            "4 2020-01-05 4 days 2020-01-01\n",
            "5 2020-01-06 5 days 2020-01-01\n",
            "6 2020-01-07 6 days 2020-01-01\n"
          ]
        }
      ],
      "source": [
        "date = pd.Series(pd.date_range('2020-1-1', periods=7, freq='D'))\n",
        "to_be_added = pd.Series([pd.Timedelta(days=i) for i in range(7)])\n",
        "date_df = pd.DataFrame({'Date': date, 'To_Add': to_be_added})\n",
        "print(date_df)\n",
        "date_df['Final_Date'] = date_df['Date'] - date_df['To_Add']\n",
        "print(date_df)"
      ]
    },
    {
      "cell_type": "code",
      "execution_count": null,
      "metadata": {
        "id": "lqC68aT58IuN",
        "outputId": "08866544-241d-4704-cf46-f06bc0637a80"
      },
      "outputs": [
        {
          "name": "stdout",
          "output_type": "stream",
          "text": [
            "        Date To_Add Final_Date  year  month  day\n",
            "0 2020-01-01 0 days 2020-01-01  2020      1    1\n",
            "1 2020-01-02 1 days 2020-01-01  2020      1    2\n",
            "2 2020-01-03 2 days 2020-01-01  2020      1    3\n",
            "3 2020-01-04 3 days 2020-01-01  2020      1    4\n",
            "4 2020-01-05 4 days 2020-01-01  2020      1    5\n",
            "5 2020-01-06 5 days 2020-01-01  2020      1    6\n",
            "6 2020-01-07 6 days 2020-01-01  2020      1    7\n"
          ]
        }
      ],
      "source": [
        "date = pd.Series(pd.date_range('2020-1-1', periods=7, freq='D'))\n",
        "to_be_added = pd.Series([pd.Timedelta(days=i) for i in range(7)])\n",
        "date_df['year'] = date_df['Date'].dt.year\n",
        "date_df['month'] = date_df['Date'].dt.month\n",
        "date_df['day'] = date_df['Date'].dt.day\n",
        "print(date_df)"
      ]
    },
    {
      "cell_type": "markdown",
      "metadata": {
        "id": "YRF0ejMZ8IuP"
      },
      "source": [
        "More date operation Here - https://pandas.pydata.org/pandas-docs/stable/user_guide/timedeltas.html"
      ]
    },
    {
      "cell_type": "markdown",
      "metadata": {
        "id": "LD95Qwe58IuQ"
      },
      "source": [
        "3a. Categorical Data"
      ]
    },
    {
      "cell_type": "code",
      "execution_count": null,
      "metadata": {
        "id": "-nqzxcZ78IuQ",
        "outputId": "92a11167-9cf7-431d-86e4-607283cff796"
      },
      "outputs": [
        {
          "name": "stdout",
          "output_type": "stream",
          "text": [
            "0      Male\n",
            "1    Female\n",
            "2      Male\n",
            "3    Female\n",
            "4    Female\n",
            "dtype: category\n",
            "Categories (2, object): ['Female', 'Male']\n"
          ]
        }
      ],
      "source": [
        "gender = pd.Series([\"Male\",\"Female\",\"Male\",\"Female\", \"Female\"], dtype=\"category\")\n",
        "print(gender)"
      ]
    },
    {
      "cell_type": "markdown",
      "metadata": {
        "id": "sevRefON8IuS"
      },
      "source": [
        "3b. Get all categories"
      ]
    },
    {
      "cell_type": "code",
      "execution_count": null,
      "metadata": {
        "id": "B3Sh_N6i8IuV",
        "outputId": "6d8b8752-5daf-4906-b552-57696290cdd3"
      },
      "outputs": [
        {
          "name": "stdout",
          "output_type": "stream",
          "text": [
            "['Male', 'Female', 'Male', 'Female', 'Female']\n",
            "Categories (2, object): ['Female', 'Male']\n"
          ]
        }
      ],
      "source": [
        "Categories = pd.Categorical(gender)\n",
        "print(Categories)\n"
      ]
    },
    {
      "cell_type": "markdown",
      "metadata": {
        "id": "bx7ZoDua8IuW"
      },
      "source": [
        "3c. Accessing the objects from the categories"
      ]
    },
    {
      "cell_type": "code",
      "execution_count": null,
      "metadata": {
        "id": "1P2GiQlI8IuZ",
        "outputId": "44fa9e4e-1876-47d8-90b8-53f8f2c8c024"
      },
      "outputs": [
        {
          "name": "stdout",
          "output_type": "stream",
          "text": [
            "Categories: Male and Female\n"
          ]
        }
      ],
      "source": [
        "print(\"Categories:\", Categories[0], \"and\", Categories[1])"
      ]
    },
    {
      "cell_type": "markdown",
      "metadata": {
        "id": "-q9mzym38Iua"
      },
      "source": [
        "3d. Summary on the Categrical attribute"
      ]
    },
    {
      "cell_type": "code",
      "execution_count": null,
      "metadata": {
        "id": "uEbtz5Te8Iub",
        "outputId": "1e08ff6e-fe01-46fa-f96b-ca90bccc60f4"
      },
      "outputs": [
        {
          "name": "stdout",
          "output_type": "stream",
          "text": [
            "count          5\n",
            "unique         2\n",
            "top       Female\n",
            "freq           3\n",
            "dtype: object\n"
          ]
        }
      ],
      "source": [
        "print(gender.describe())"
      ]
    },
    {
      "cell_type": "markdown",
      "metadata": {
        "id": "EvA2O3q88Iuc"
      },
      "source": [
        "3e. Removing certain categories"
      ]
    },
    {
      "cell_type": "code",
      "execution_count": null,
      "metadata": {
        "id": "MzW7Ya9K8Iue",
        "outputId": "6d1e3189-62c7-4e1c-d044-ad2a7937e2f5"
      },
      "outputs": [
        {
          "name": "stdout",
          "output_type": "stream",
          "text": [
            "0       NaN\n",
            "1    Female\n",
            "2       NaN\n",
            "3    Female\n",
            "4    Female\n",
            "dtype: category\n",
            "Categories (1, object): ['Female']\n"
          ]
        }
      ],
      "source": [
        "print(gender.cat.remove_categories(\"Male\"))"
      ]
    },
    {
      "cell_type": "markdown",
      "metadata": {
        "id": "qGwaJrtj8Iuf"
      },
      "source": [
        "4a. Sparse Data - Useful when there is a large number of zero elements"
      ]
    },
    {
      "cell_type": "code",
      "execution_count": null,
      "metadata": {
        "id": "ENku6vWU8Iuf",
        "outputId": "572bf211-7c2b-48be-aa1a-90796f3c0209"
      },
      "outputs": [
        {
          "name": "stdout",
          "output_type": "stream",
          "text": [
            "<class 'pandas.core.frame.DataFrame'>\n"
          ]
        }
      ],
      "source": [
        "import pandas as pd\n",
        "import numpy as np\n",
        "\n",
        "\n",
        "df = pd.DataFrame(np.random.randn(10000, 4))\n",
        "df.iloc[:9998] = np.nan\n",
        "sdf = df.astype(pd.SparseDtype(\"float\", np.nan))\n",
        "print(type(sdf))"
      ]
    },
    {
      "cell_type": "code",
      "execution_count": null,
      "metadata": {
        "id": "XlV3w-U18Iuh",
        "outputId": "3784cd19-0c6e-484d-c69c-eff40baad366"
      },
      "outputs": [
        {
          "data": {
            "text/plain": [
              "0    Sparse[float64, nan]\n",
              "1    Sparse[float64, nan]\n",
              "2    Sparse[float64, nan]\n",
              "3    Sparse[float64, nan]\n",
              "dtype: object"
            ]
          },
          "execution_count": 18,
          "metadata": {},
          "output_type": "execute_result"
        }
      ],
      "source": [
        "sdf.dtypes"
      ]
    },
    {
      "cell_type": "code",
      "execution_count": null,
      "metadata": {
        "id": "K5xXibb08Iui",
        "outputId": "e23611c0-62e0-44e4-a1f7-9ecfd54774e2"
      },
      "outputs": [
        {
          "data": {
            "text/plain": [
              "0.0002"
            ]
          },
          "execution_count": 19,
          "metadata": {},
          "output_type": "execute_result"
        }
      ],
      "source": [
        "sdf.sparse.density"
      ]
    },
    {
      "cell_type": "markdown",
      "metadata": {
        "id": "AzYCnvBm8Iuj"
      },
      "source": [
        "To Do\n",
        "- Read and try from the pandas documentation - https://pandas.pydata.org/pandas-docs/stable/user_guide/timeseries.html\n",
        "- Explore Categorical data with a kaggle dataset"
      ]
    },
    {
      "cell_type": "code",
      "execution_count": null,
      "metadata": {
        "id": "Dg-x4Mf78Iuk"
      },
      "outputs": [],
      "source": [
        ""
      ]
    }
  ],
  "metadata": {
    "kernelspec": {
      "display_name": "Python 3",
      "language": "python",
      "name": "python3"
    },
    "language_info": {
      "codemirror_mode": {
        "name": "ipython",
        "version": 3
      },
      "file_extension": ".py",
      "mimetype": "text/x-python",
      "name": "python",
      "nbconvert_exporter": "python",
      "pygments_lexer": "ipython3",
      "version": "3.8.5"
    },
    "colab": {
      "name": "Day16.ipynb",
      "provenance": [],
      "collapsed_sections": []
    }
  },
  "nbformat": 4,
  "nbformat_minor": 0
}

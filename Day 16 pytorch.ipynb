{
  "nbformat": 4,
  "nbformat_minor": 0,
  "metadata": {
    "colab": {
      "name": "pytorch.ipynb",
      "provenance": [],
      "collapsed_sections": [],
      "authorship_tag": "ABX9TyPdJyGDAkFY1YMACkegWM+x",
      "include_colab_link": true
    },
    "kernelspec": {
      "name": "python3",
      "display_name": "Python 3"
    },
    "language_info": {
      "name": "python"
    }
  },
  "cells": [
    {
      "cell_type": "markdown",
      "metadata": {
        "id": "view-in-github",
        "colab_type": "text"
      },
      "source": [
        "<a href=\"https://colab.research.google.com/github/Sam-Joshua-S/100DaysOfData/blob/main/Day%2016%20pytorch.ipynb\" target=\"_parent\"><img src=\"https://colab.research.google.com/assets/colab-badge.svg\" alt=\"Open In Colab\"/></a>"
      ]
    },
    {
      "cell_type": "code",
      "execution_count": 1,
      "metadata": {
        "id": "nkNzJPt-QEgL"
      },
      "outputs": [],
      "source": [
        "import torch"
      ]
    },
    {
      "cell_type": "code",
      "source": [
        "t1 = torch.tensor(5)"
      ],
      "metadata": {
        "id": "IROXJs_fXAg5"
      },
      "execution_count": 4,
      "outputs": []
    },
    {
      "cell_type": "code",
      "source": [
        "t1"
      ],
      "metadata": {
        "colab": {
          "base_uri": "https://localhost:8080/"
        },
        "id": "hdMfWgoJXGkn",
        "outputId": "7fa59c3e-375d-4931-9ba1-84bc54162824"
      },
      "execution_count": 5,
      "outputs": [
        {
          "output_type": "execute_result",
          "data": {
            "text/plain": [
              "tensor(5)"
            ]
          },
          "metadata": {},
          "execution_count": 5
        }
      ]
    },
    {
      "cell_type": "code",
      "source": [
        "t1.dtype"
      ],
      "metadata": {
        "colab": {
          "base_uri": "https://localhost:8080/"
        },
        "id": "pcnW2fNqXH-9",
        "outputId": "2a04b42f-d054-4aee-d2c3-384c6f0d9954"
      },
      "execution_count": 6,
      "outputs": [
        {
          "output_type": "execute_result",
          "data": {
            "text/plain": [
              "torch.int64"
            ]
          },
          "metadata": {},
          "execution_count": 6
        }
      ]
    },
    {
      "cell_type": "code",
      "source": [
        "t4 = torch.tensor([[1,2],[4,5]])"
      ],
      "metadata": {
        "id": "iISvmVv0knQK"
      },
      "execution_count": 7,
      "outputs": []
    },
    {
      "cell_type": "code",
      "source": [
        "t1.shape"
      ],
      "metadata": {
        "colab": {
          "base_uri": "https://localhost:8080/"
        },
        "id": "O98tIIqlk0Cs",
        "outputId": "1c5b7e2f-901f-4b94-f322-2b28215de2f6"
      },
      "execution_count": 8,
      "outputs": [
        {
          "output_type": "execute_result",
          "data": {
            "text/plain": [
              "torch.Size([])"
            ]
          },
          "metadata": {},
          "execution_count": 8
        }
      ]
    },
    {
      "cell_type": "code",
      "source": [
        "t4.shape"
      ],
      "metadata": {
        "colab": {
          "base_uri": "https://localhost:8080/"
        },
        "id": "69rDJRZvk5Wa",
        "outputId": "fde5a96e-fdd6-4cd0-895f-467d849be160"
      },
      "execution_count": 9,
      "outputs": [
        {
          "output_type": "execute_result",
          "data": {
            "text/plain": [
              "torch.Size([2, 2])"
            ]
          },
          "metadata": {},
          "execution_count": 9
        }
      ]
    },
    {
      "cell_type": "code",
      "source": [
        "t2 = torch.tensor([[1]])"
      ],
      "metadata": {
        "id": "wPICHqvdk-rr"
      },
      "execution_count": 10,
      "outputs": []
    },
    {
      "cell_type": "code",
      "source": [
        "t2.shape"
      ],
      "metadata": {
        "colab": {
          "base_uri": "https://localhost:8080/"
        },
        "id": "_pZhS1yJlRZB",
        "outputId": "92229726-2b1d-4dc6-8b1e-2eb88e761234"
      },
      "execution_count": 11,
      "outputs": [
        {
          "output_type": "execute_result",
          "data": {
            "text/plain": [
              "torch.Size([1, 1])"
            ]
          },
          "metadata": {},
          "execution_count": 11
        }
      ]
    },
    {
      "cell_type": "markdown",
      "source": [
        "#Tensor Operation and Gradient "
      ],
      "metadata": {
        "id": "tXsPB5BzlTfi"
      }
    },
    {
      "cell_type": "code",
      "source": [
        "x = torch.tensor(3.)\n",
        "w = torch.tensor(4.,requires_grad=True)\n",
        "b = torch.tensor(7.,requires_grad=True)"
      ],
      "metadata": {
        "id": "wJjjq_w9ldxy"
      },
      "execution_count": 17,
      "outputs": []
    },
    {
      "cell_type": "code",
      "source": [
        "y = w * x + b\n",
        "y"
      ],
      "metadata": {
        "colab": {
          "base_uri": "https://localhost:8080/"
        },
        "id": "dJSqjeiAlzmI",
        "outputId": "9e6273ff-973a-415c-dd13-1adb08162232"
      },
      "execution_count": 18,
      "outputs": [
        {
          "output_type": "execute_result",
          "data": {
            "text/plain": [
              "tensor(19., grad_fn=<AddBackward0>)"
            ]
          },
          "metadata": {},
          "execution_count": 18
        }
      ]
    },
    {
      "cell_type": "code",
      "source": [
        "y.backward()"
      ],
      "metadata": {
        "id": "XF6vAd9EmCqr"
      },
      "execution_count": 19,
      "outputs": []
    },
    {
      "cell_type": "code",
      "source": [
        "print(\"dy/dx\",x.grad)\n",
        "print(\"dy/dw\",w.grad)\n",
        "print(\"dy/db\",b.grad)\n"
      ],
      "metadata": {
        "colab": {
          "base_uri": "https://localhost:8080/"
        },
        "id": "0d7dJOz1mVFP",
        "outputId": "c6e1d237-2e70-4533-a736-83a00891a614"
      },
      "execution_count": 20,
      "outputs": [
        {
          "output_type": "stream",
          "name": "stdout",
          "text": [
            "dy/dx None\n",
            "dy/dw tensor(3.)\n",
            "dy/db tensor(1.)\n"
          ]
        }
      ]
    },
    {
      "cell_type": "markdown",
      "source": [
        "#Interoperability with numpy"
      ],
      "metadata": {
        "id": "aTBEGDNSmkyW"
      }
    },
    {
      "cell_type": "code",
      "source": [
        "import numpy as np\n",
        "x = np.array([[1,2],[4,5]])"
      ],
      "metadata": {
        "id": "rWO3T1LXnDKM"
      },
      "execution_count": 21,
      "outputs": []
    },
    {
      "cell_type": "code",
      "source": [
        "x"
      ],
      "metadata": {
        "colab": {
          "base_uri": "https://localhost:8080/"
        },
        "id": "js2H19IkniJE",
        "outputId": "b4f2e0cd-efb9-4119-eca8-d64ea7d6aa28"
      },
      "execution_count": 22,
      "outputs": [
        {
          "output_type": "execute_result",
          "data": {
            "text/plain": [
              "array([[1, 2],\n",
              "       [4, 5]])"
            ]
          },
          "metadata": {},
          "execution_count": 22
        }
      ]
    },
    {
      "cell_type": "code",
      "source": [
        "y = torch.from_numpy(x)\n",
        "y"
      ],
      "metadata": {
        "colab": {
          "base_uri": "https://localhost:8080/"
        },
        "id": "bb5GtoOIninb",
        "outputId": "60596c8b-7691-4390-aa75-47c4c99188ac"
      },
      "execution_count": 23,
      "outputs": [
        {
          "output_type": "execute_result",
          "data": {
            "text/plain": [
              "tensor([[1, 2],\n",
              "        [4, 5]])"
            ]
          },
          "metadata": {},
          "execution_count": 23
        }
      ]
    },
    {
      "cell_type": "code",
      "source": [
        "x.dtype , y.dtype"
      ],
      "metadata": {
        "colab": {
          "base_uri": "https://localhost:8080/"
        },
        "id": "iBgrpO61nnv0",
        "outputId": "3123ab65-daaf-4bcf-d9a0-5b7c8f6853c3"
      },
      "execution_count": 24,
      "outputs": [
        {
          "output_type": "execute_result",
          "data": {
            "text/plain": [
              "(dtype('int64'), torch.int64)"
            ]
          },
          "metadata": {},
          "execution_count": 24
        }
      ]
    },
    {
      "cell_type": "code",
      "source": [
        "z = y.numpy()\n",
        "z"
      ],
      "metadata": {
        "colab": {
          "base_uri": "https://localhost:8080/"
        },
        "id": "lAuZJHe5nvqU",
        "outputId": "01516d93-ca25-435a-ce02-331fc9c16721"
      },
      "execution_count": 25,
      "outputs": [
        {
          "output_type": "execute_result",
          "data": {
            "text/plain": [
              "array([[1, 2],\n",
              "       [4, 5]])"
            ]
          },
          "metadata": {},
          "execution_count": 25
        }
      ]
    },
    {
      "cell_type": "markdown",
      "source": [
        "#Linear Regression"
      ],
      "metadata": {
        "id": "JSThpOr5n3mU"
      }
    },
    {
      "cell_type": "code",
      "source": [
        "# Input (temp, rainfall, humidity)\n",
        "inputs = np.array([[73, 67, 43], \n",
        "                   [91, 88, 64], \n",
        "                   [87, 134, 58], \n",
        "                   [102, 43, 37], \n",
        "                   [69, 96, 70]], dtype='float32')"
      ],
      "metadata": {
        "id": "J0svva3co9ea"
      },
      "execution_count": 26,
      "outputs": []
    },
    {
      "cell_type": "code",
      "source": [
        "# Targets (apples, oranges)\n",
        "targets = np.array([[56, 70], \n",
        "                    [81, 101], \n",
        "                    [119, 133], \n",
        "                    [22, 37], \n",
        "                    [103, 119]], dtype='float32')"
      ],
      "metadata": {
        "id": "jXaRWukTo_2g"
      },
      "execution_count": 27,
      "outputs": []
    },
    {
      "cell_type": "code",
      "source": [
        "inputs = torch.from_numpy(inputs)\n",
        "targets = torch.from_numpy(targets)\n"
      ],
      "metadata": {
        "id": "2Yo0ei7RpB_K"
      },
      "execution_count": 28,
      "outputs": []
    },
    {
      "cell_type": "code",
      "source": [
        "w = torch.randn(2,3,requires_grad=True)\n",
        "b = torch.randn(2,requires_grad=True)"
      ],
      "metadata": {
        "id": "y_SadmTCpQoE"
      },
      "execution_count": 29,
      "outputs": []
    },
    {
      "cell_type": "code",
      "source": [
        "print(inputs.shape,w.shape,b.shape,targets.shape)"
      ],
      "metadata": {
        "colab": {
          "base_uri": "https://localhost:8080/"
        },
        "id": "Uj8Dly9PpgqD",
        "outputId": "53fc7c8c-e060-4cfe-e747-209c540fdf74"
      },
      "execution_count": 32,
      "outputs": [
        {
          "output_type": "stream",
          "name": "stdout",
          "text": [
            "torch.Size([5, 3]) torch.Size([2, 3]) torch.Size([2]) torch.Size([5, 2])\n"
          ]
        }
      ]
    },
    {
      "cell_type": "markdown",
      "source": [
        "<img src=\"https://i.imgur.com/WGXLFvA.png\">"
      ],
      "metadata": {
        "id": "JImSqH4-pjrU"
      }
    },
    {
      "cell_type": "markdown",
      "source": [
        "## @ represent matrix multiplication"
      ],
      "metadata": {
        "id": "RgE4gNWUpw0d"
      }
    },
    {
      "cell_type": "code",
      "source": [
        "def model(x):\n",
        "  return x @ w.t() + b"
      ],
      "metadata": {
        "id": "hBt7VF4Wq3E4"
      },
      "execution_count": 33,
      "outputs": []
    },
    {
      "cell_type": "code",
      "source": [
        "# Before Optimization\n",
        "preds = model(inputs)"
      ],
      "metadata": {
        "id": "LEnFKYOfrFEa"
      },
      "execution_count": 43,
      "outputs": []
    },
    {
      "cell_type": "code",
      "source": [
        "preds"
      ],
      "metadata": {
        "colab": {
          "base_uri": "https://localhost:8080/"
        },
        "id": "2FWaP0YysPsN",
        "outputId": "d95abc7f-9cf7-4c9f-d6fb-21cc58a10298"
      },
      "execution_count": 44,
      "outputs": [
        {
          "output_type": "execute_result",
          "data": {
            "text/plain": [
              "tensor([[  28.8771, -111.8078],\n",
              "        [  38.7261, -158.4703],\n",
              "        [ -19.7641, -189.3305],\n",
              "        [  78.0536,  -76.8099],\n",
              "        [  13.6449, -178.5150]], grad_fn=<AddBackward0>)"
            ]
          },
          "metadata": {},
          "execution_count": 44
        }
      ]
    },
    {
      "cell_type": "code",
      "source": [
        "print(targets)"
      ],
      "metadata": {
        "colab": {
          "base_uri": "https://localhost:8080/"
        },
        "id": "w8w0zJ4YrUc2",
        "outputId": "4fe46bfe-fd1b-4166-96ec-cb71c9a1a2da"
      },
      "execution_count": 45,
      "outputs": [
        {
          "output_type": "stream",
          "name": "stdout",
          "text": [
            "tensor([[ 56.,  70.],\n",
            "        [ 81., 101.],\n",
            "        [119., 133.],\n",
            "        [ 22.,  37.],\n",
            "        [103., 119.]])\n"
          ]
        }
      ]
    },
    {
      "cell_type": "markdown",
      "source": [
        "## numel represent no of element"
      ],
      "metadata": {
        "id": "z4nstMo3r18E"
      }
    },
    {
      "cell_type": "code",
      "source": [
        "def mse(t1,t2):\n",
        "  diff = t1-t2\n",
        "  return torch.sum(diff*diff) / diff.numel()"
      ],
      "metadata": {
        "id": "RAhXwbj4rZEI"
      },
      "execution_count": 48,
      "outputs": []
    },
    {
      "cell_type": "code",
      "source": [
        "loss = mse(preds,targets)"
      ],
      "metadata": {
        "id": "XkZbpKjrr__Q"
      },
      "execution_count": 49,
      "outputs": []
    },
    {
      "cell_type": "code",
      "source": [
        "print(loss)"
      ],
      "metadata": {
        "colab": {
          "base_uri": "https://localhost:8080/"
        },
        "id": "TsmR1KRXsGp0",
        "outputId": "3967cc74-0dc7-4a70-e48e-1813b7b61331"
      },
      "execution_count": 50,
      "outputs": [
        {
          "output_type": "stream",
          "name": "stdout",
          "text": [
            "tensor(33864.8242, grad_fn=<DivBackward0>)\n"
          ]
        }
      ]
    },
    {
      "cell_type": "markdown",
      "source": [
        "##Compute Gradient Descent"
      ],
      "metadata": {
        "id": "0z4JU45VssqW"
      }
    },
    {
      "cell_type": "code",
      "source": [
        "loss.backward()"
      ],
      "metadata": {
        "id": "3PUgHFJas0ai"
      },
      "execution_count": 51,
      "outputs": []
    },
    {
      "cell_type": "code",
      "source": [
        "print(w)\n",
        "print(w.grad)"
      ],
      "metadata": {
        "colab": {
          "base_uri": "https://localhost:8080/"
        },
        "id": "_uMe3nTes31-",
        "outputId": "f5769da2-15fa-4ffb-e969-f7285c8b2ee2"
      },
      "execution_count": 53,
      "outputs": [
        {
          "output_type": "stream",
          "name": "stdout",
          "text": [
            "tensor([[ 0.9473, -1.0915,  0.7486],\n",
            "        [ 0.1844, -0.8539, -1.5262]], requires_grad=True)\n",
            "tensor([[ -3669.4832,  -6059.9038,  -3220.2024],\n",
            "        [-19412.7305, -22332.4102, -13631.2031]])\n"
          ]
        }
      ]
    },
    {
      "cell_type": "markdown",
      "source": [
        "#We use torch.no_grad to indicate to PyTorch that we shouldn't track, calculate, or modify gradients while updating the weights and biases."
      ],
      "metadata": {
        "id": "nLQEbqEyt8pz"
      }
    },
    {
      "cell_type": "code",
      "source": [
        "with torch.no_grad():\n",
        "  w -= w.grad * 1e-5\n",
        "  b -= b.grad * 1e-5"
      ],
      "metadata": {
        "id": "hkTDBSmGtBhr"
      },
      "execution_count": 57,
      "outputs": []
    },
    {
      "cell_type": "code",
      "source": [
        "loss = mse(preds, targets)\n",
        "print(loss)"
      ],
      "metadata": {
        "id": "EHk7Lk3PuBfa"
      },
      "execution_count": null,
      "outputs": []
    },
    {
      "cell_type": "code",
      "source": [
        "w.grad.zero_()\n",
        "b.grad.zero_()\n",
        "print(w.grad)\n",
        "print(b.grad)"
      ],
      "metadata": {
        "colab": {
          "base_uri": "https://localhost:8080/"
        },
        "id": "wU6IIDF5u26p",
        "outputId": "920ef07e-e8fc-4c6a-e146-f3482d73e8cf"
      },
      "execution_count": 59,
      "outputs": [
        {
          "output_type": "stream",
          "name": "stdout",
          "text": [
            "tensor([[0., 0., 0.],\n",
            "        [0., 0., 0.]])\n",
            "tensor([0., 0.])\n"
          ]
        }
      ]
    },
    {
      "cell_type": "code",
      "source": [
        "# Generate predictions\n",
        "preds = model(inputs)\n",
        "print(preds)"
      ],
      "metadata": {
        "colab": {
          "base_uri": "https://localhost:8080/"
        },
        "id": "epJWEZvPvjNn",
        "outputId": "a3ce77f7-5af8-4ac6-bfb5-9f7d7ffe7845"
      },
      "execution_count": 60,
      "outputs": [
        {
          "output_type": "stream",
          "name": "stdout",
          "text": [
            "tensor([[ 53.2482,  -6.8192],\n",
            "        [ 70.9252, -20.3417],\n",
            "        [ 19.7777, -25.1663],\n",
            "        [100.6744,  26.5348],\n",
            "        [ 45.4561, -45.3854]], grad_fn=<AddBackward0>)\n"
          ]
        }
      ]
    },
    {
      "cell_type": "code",
      "source": [
        "# Calculate the loss\n",
        "loss = mse(preds, targets)\n",
        "print(loss)"
      ],
      "metadata": {
        "colab": {
          "base_uri": "https://localhost:8080/"
        },
        "id": "GUlssmMPvnf2",
        "outputId": "1a539cef-ccc1-4d04-ec05-52a83ff1b82a"
      },
      "execution_count": 61,
      "outputs": [
        {
          "output_type": "stream",
          "name": "stdout",
          "text": [
            "tensor(9222.8770, grad_fn=<DivBackward0>)\n"
          ]
        }
      ]
    },
    {
      "cell_type": "code",
      "source": [
        "# Compute gradients\n",
        "loss.backward()\n",
        "print(w.grad)\n",
        "print(b.grad)"
      ],
      "metadata": {
        "colab": {
          "base_uri": "https://localhost:8080/"
        },
        "id": "6GM3mHzavqW-",
        "outputId": "4665ab49-ad77-47e4-b841-fbc506186da8"
      },
      "execution_count": 62,
      "outputs": [
        {
          "output_type": "stream",
          "name": "stdout",
          "text": [
            "tensor([[ -1139.1536,  -3301.5903,  -1527.0251],\n",
            "        [ -8564.0820, -10650.0488,  -6427.3862]])\n",
            "tensor([ -18.1837, -106.2356])\n"
          ]
        }
      ]
    },
    {
      "cell_type": "code",
      "source": [
        "# Adjust weights & reset gradients\n",
        "with torch.no_grad():\n",
        "    w -= w.grad * 1e-5\n",
        "    b -= b.grad * 1e-5\n",
        "    w.grad.zero_()\n",
        "    b.grad.zero_()"
      ],
      "metadata": {
        "id": "4NUvSbwKvt5G"
      },
      "execution_count": 63,
      "outputs": []
    },
    {
      "cell_type": "code",
      "source": [
        "print(w)\n",
        "print(b)"
      ],
      "metadata": {
        "colab": {
          "base_uri": "https://localhost:8080/"
        },
        "id": "FUZlNYVpvw1m",
        "outputId": "23dbb4a5-199c-47a5-9950-4853d98fcfa6"
      },
      "execution_count": 64,
      "outputs": [
        {
          "output_type": "stream",
          "name": "stdout",
          "text": [
            "tensor([[ 1.0688, -0.8767,  0.8604],\n",
            "        [ 0.8524, -0.0774, -1.0530]], requires_grad=True)\n",
            "tensor([ 0.6695, -2.4278], requires_grad=True)\n"
          ]
        }
      ]
    },
    {
      "cell_type": "code",
      "source": [
        "# Calculate loss\n",
        "preds = model(inputs)\n",
        "loss = mse(preds, targets)\n",
        "print(loss)"
      ],
      "metadata": {
        "colab": {
          "base_uri": "https://localhost:8080/"
        },
        "id": "urbtY_Ezv4ZF",
        "outputId": "f4713459-65c3-441c-a3ad-a911b4f75cc8"
      },
      "execution_count": 65,
      "outputs": [
        {
          "output_type": "stream",
          "name": "stdout",
          "text": [
            "tensor(7011.3047, grad_fn=<DivBackward0>)\n"
          ]
        }
      ]
    },
    {
      "cell_type": "code",
      "source": [
        "for i in range(100):\n",
        "  preds = model(inputs)\n",
        "  loss = mse(targets,preds)\n",
        "  loss.backward()\n",
        "  with torch.no_grad():\n",
        "      w -= w.grad * 1e-5\n",
        "      b -= b.grad * 1e-5\n",
        "      w.grad.zero_()\n",
        "      b.grad.zero_()\n"
      ],
      "metadata": {
        "id": "kuUALTGkv6Vs"
      },
      "execution_count": 68,
      "outputs": []
    },
    {
      "cell_type": "code",
      "source": [
        "# Calculate loss\n",
        "preds = model(inputs)\n",
        "loss = mse(preds, targets)\n",
        "print(loss)"
      ],
      "metadata": {
        "colab": {
          "base_uri": "https://localhost:8080/"
        },
        "id": "dPUTd9tIwXnq",
        "outputId": "856c7305-a6d1-4157-c668-f4aca6c243e7"
      },
      "execution_count": 69,
      "outputs": [
        {
          "output_type": "stream",
          "name": "stdout",
          "text": [
            "tensor(785.3158, grad_fn=<DivBackward0>)\n"
          ]
        }
      ]
    },
    {
      "cell_type": "markdown",
      "source": [
        "#Linear Regression using Pytorch Build in "
      ],
      "metadata": {
        "id": "-1EyQq-dw1-6"
      }
    },
    {
      "cell_type": "code",
      "source": [
        "import torch.nn as nn"
      ],
      "metadata": {
        "id": "pfcV5992xPHK"
      },
      "execution_count": 71,
      "outputs": []
    },
    {
      "cell_type": "code",
      "source": [
        "# Input (temp, rainfall, humidity)\n",
        "inputs = np.array([[73, 67, 43], \n",
        "                   [91, 88, 64], \n",
        "                   [87, 134, 58], \n",
        "                   [102, 43, 37], \n",
        "                   [69, 96, 70], \n",
        "                   [74, 66, 43], \n",
        "                   [91, 87, 65], \n",
        "                   [88, 134, 59], \n",
        "                   [101, 44, 37], \n",
        "                   [68, 96, 71], \n",
        "                   [73, 66, 44], \n",
        "                   [92, 87, 64], \n",
        "                   [87, 135, 57], \n",
        "                   [103, 43, 36], \n",
        "                   [68, 97, 70]], \n",
        "                  dtype='float32')\n",
        "\n",
        "# Targets (apples, oranges)\n",
        "targets = np.array([[56, 70], \n",
        "                    [81, 101], \n",
        "                    [119, 133], \n",
        "                    [22, 37], \n",
        "                    [103, 119],\n",
        "                    [57, 69], \n",
        "                    [80, 102], \n",
        "                    [118, 132], \n",
        "                    [21, 38], \n",
        "                    [104, 118], \n",
        "                    [57, 69], \n",
        "                    [82, 100], \n",
        "                    [118, 134], \n",
        "                    [20, 38], \n",
        "                    [102, 120]], \n",
        "                   dtype='float32')\n",
        "\n",
        "inputs = torch.from_numpy(inputs)\n",
        "targets = torch.from_numpy(targets)"
      ],
      "metadata": {
        "id": "N0wEjph1xS6z"
      },
      "execution_count": 72,
      "outputs": []
    },
    {
      "cell_type": "markdown",
      "source": [
        "# Dataset and DataLoader"
      ],
      "metadata": {
        "id": "XSM4X08ZxXlR"
      }
    },
    {
      "cell_type": "code",
      "source": [
        "from torch.utils.data import TensorDataset"
      ],
      "metadata": {
        "id": "Ug-4tPWCxnOb"
      },
      "execution_count": 73,
      "outputs": []
    },
    {
      "cell_type": "code",
      "source": [
        "train_ds = TensorDataset(inputs,targets)\n",
        "train_ds[:3]"
      ],
      "metadata": {
        "colab": {
          "base_uri": "https://localhost:8080/"
        },
        "id": "bYbRGDwixzoL",
        "outputId": "66c0effa-cb3b-40d2-9db3-ff46959e2a97"
      },
      "execution_count": 76,
      "outputs": [
        {
          "output_type": "execute_result",
          "data": {
            "text/plain": [
              "(tensor([[ 73.,  67.,  43.],\n",
              "         [ 91.,  88.,  64.],\n",
              "         [ 87., 134.,  58.]]), tensor([[ 56.,  70.],\n",
              "         [ 81., 101.],\n",
              "         [119., 133.]]))"
            ]
          },
          "metadata": {},
          "execution_count": 76
        }
      ]
    },
    {
      "cell_type": "code",
      "source": [
        "model = nn.Linear(3,2)\n",
        "print(model.weight)\n",
        "print(model.bias)"
      ],
      "metadata": {
        "colab": {
          "base_uri": "https://localhost:8080/"
        },
        "id": "Khwk2olPyAmX",
        "outputId": "3227d50b-4a55-411a-b9a0-b8b92699d65b"
      },
      "execution_count": 77,
      "outputs": [
        {
          "output_type": "stream",
          "name": "stdout",
          "text": [
            "Parameter containing:\n",
            "tensor([[ 0.3025, -0.2175, -0.1778],\n",
            "        [-0.3736,  0.2846,  0.3502]], requires_grad=True)\n",
            "Parameter containing:\n",
            "tensor([ 0.4984, -0.1856], requires_grad=True)\n"
          ]
        }
      ]
    },
    {
      "cell_type": "code",
      "source": [
        "list(model.parameters())"
      ],
      "metadata": {
        "colab": {
          "base_uri": "https://localhost:8080/"
        },
        "id": "gAcD-dbwynYu",
        "outputId": "7b026203-dca7-4a9e-e1da-07ba4d98152f"
      },
      "execution_count": 78,
      "outputs": [
        {
          "output_type": "execute_result",
          "data": {
            "text/plain": [
              "[Parameter containing:\n",
              " tensor([[ 0.3025, -0.2175, -0.1778],\n",
              "         [-0.3736,  0.2846,  0.3502]], requires_grad=True),\n",
              " Parameter containing:\n",
              " tensor([ 0.4984, -0.1856], requires_grad=True)]"
            ]
          },
          "metadata": {},
          "execution_count": 78
        }
      ]
    },
    {
      "cell_type": "code",
      "source": [
        "preds = model(inputs)"
      ],
      "metadata": {
        "id": "3mXJT2XMyvDp"
      },
      "execution_count": 79,
      "outputs": []
    },
    {
      "cell_type": "code",
      "source": [
        "preds"
      ],
      "metadata": {
        "colab": {
          "base_uri": "https://localhost:8080/"
        },
        "id": "lEpTojW0y5xY",
        "outputId": "a4f7832c-b176-4386-c026-3902ba13153a"
      },
      "execution_count": 80,
      "outputs": [
        {
          "output_type": "execute_result",
          "data": {
            "text/plain": [
              "tensor([[  0.3656,   6.6662],\n",
              "        [ -2.4899,  13.2717],\n",
              "        [-12.6387,  25.7554],\n",
              "        [ 15.4259, -13.0999],\n",
              "        [-11.9523,  25.8692],\n",
              "        [  0.8856,   6.0080],\n",
              "        [ -2.4501,  13.3373],\n",
              "        [-12.5140,  25.7320],\n",
              "        [ 14.9058, -12.4417],\n",
              "        [-12.4326,  26.5930],\n",
              "        [  0.4053,   6.7318],\n",
              "        [ -1.9698,  12.6135],\n",
              "        [-12.6785,  25.6898],\n",
              "        [ 15.9062, -13.8238],\n",
              "        [-12.4723,  26.5274]], grad_fn=<AddmmBackward0>)"
            ]
          },
          "metadata": {},
          "execution_count": 80
        }
      ]
    },
    {
      "cell_type": "markdown",
      "source": [
        "##Loss Function"
      ],
      "metadata": {
        "id": "HIv3GPvYy7Lp"
      }
    },
    {
      "cell_type": "code",
      "source": [
        "import torch.nn.functional as F"
      ],
      "metadata": {
        "id": "SGuKtvPHzNAo"
      },
      "execution_count": 82,
      "outputs": []
    },
    {
      "cell_type": "code",
      "source": [
        "loss_fn = F.mse_loss"
      ],
      "metadata": {
        "id": "5H45FGUVzxEa"
      },
      "execution_count": 83,
      "outputs": []
    },
    {
      "cell_type": "code",
      "source": [
        "loss = loss_fn(model(inputs),targets)\n",
        "loss"
      ],
      "metadata": {
        "colab": {
          "base_uri": "https://localhost:8080/"
        },
        "id": "dmGuAvI4z6IA",
        "outputId": "018e2f48-2ab5-41cc-9059-c83690f6f961"
      },
      "execution_count": 84,
      "outputs": [
        {
          "output_type": "execute_result",
          "data": {
            "text/plain": [
              "tensor(7491.9668, grad_fn=<MseLossBackward0>)"
            ]
          },
          "metadata": {},
          "execution_count": 84
        }
      ]
    },
    {
      "cell_type": "markdown",
      "source": [
        "##Optimizer"
      ],
      "metadata": {
        "id": "NaYZPqEb0D4C"
      }
    },
    {
      "cell_type": "code",
      "source": [
        "opt = torch.optim.SGD(model.parameters(),lr = 1e-5)"
      ],
      "metadata": {
        "id": "uLkul60N0KUd"
      },
      "execution_count": 85,
      "outputs": []
    },
    {
      "cell_type": "markdown",
      "source": [
        "#Train the model\n"
      ],
      "metadata": {
        "id": "POlTWN431tC1"
      }
    },
    {
      "cell_type": "code",
      "source": [
        "def fit(num_epoch,model,loss_fn,opt,train_dl):\n",
        "  for epoch in range(num_epoch):\n",
        "    for xb,yb in train_dl:\n",
        "      pred = model(xb)\n",
        "      loss = loss_fn(pred,yb)\n",
        "      loss.backward()\n",
        "      opt.step()\n",
        "      opt.zero_grad()\n",
        "    if (epoch+1) % 10 == 0:\n",
        "      print('Epoch [{}/{}], Loss: {:.4f}'.format(epoch+1,num_epoch,loss.item()))"
      ],
      "metadata": {
        "id": "pw8u30y21yqb"
      },
      "execution_count": 86,
      "outputs": []
    },
    {
      "cell_type": "code",
      "source": [
        "fit(100,model,loss_fn,opt,train_ds)"
      ],
      "metadata": {
        "colab": {
          "base_uri": "https://localhost:8080/"
        },
        "id": "RfzQpPrj3Lxx",
        "outputId": "2ea14107-0383-43c7-a233-9599dad49b86"
      },
      "execution_count": 89,
      "outputs": [
        {
          "output_type": "stream",
          "name": "stdout",
          "text": [
            "Epoch [10/100], Loss: 146.5841\n",
            "Epoch [20/100], Loss: 47.9156\n",
            "Epoch [30/100], Loss: 21.6367\n",
            "Epoch [40/100], Loss: 11.9792\n",
            "Epoch [50/100], Loss: 7.3272\n",
            "Epoch [60/100], Loss: 4.6594\n",
            "Epoch [70/100], Loss: 2.9913\n",
            "Epoch [80/100], Loss: 1.9156\n",
            "Epoch [90/100], Loss: 1.2224\n",
            "Epoch [100/100], Loss: 0.7848\n"
          ]
        }
      ]
    },
    {
      "cell_type": "code",
      "source": [
        "model(torch.tensor([[75, 63, 44.]]))"
      ],
      "metadata": {
        "colab": {
          "base_uri": "https://localhost:8080/"
        },
        "id": "B3ksh_4B3Ucx",
        "outputId": "935a7723-4319-4801-d4ba-51d963cb179c"
      },
      "execution_count": 90,
      "outputs": [
        {
          "output_type": "execute_result",
          "data": {
            "text/plain": [
              "tensor([[53.4188, 67.7031]], grad_fn=<AddmmBackward0>)"
            ]
          },
          "metadata": {},
          "execution_count": 90
        }
      ]
    }
  ]
}